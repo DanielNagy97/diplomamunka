{
 "cells": [
  {
   "cell_type": "code",
   "execution_count": 1,
   "id": "31bbe499",
   "metadata": {},
   "outputs": [
    {
     "name": "stderr",
     "output_type": "stream",
     "text": [
      "2022-03-13 16:03:03.010836: W tensorflow/stream_executor/platform/default/dso_loader.cc:64] Could not load dynamic library 'libcudart.so.11.0'; dlerror: libcudart.so.11.0: cannot open shared object file: No such file or directory\n",
      "2022-03-13 16:03:03.010871: I tensorflow/stream_executor/cuda/cudart_stub.cc:29] Ignore above cudart dlerror if you do not have a GPU set up on your machine.\n",
      "2022-03-13 16:03:05.330196: W tensorflow/stream_executor/platform/default/dso_loader.cc:64] Could not load dynamic library 'libcuda.so.1'; dlerror: libcuda.so.1: cannot open shared object file: No such file or directory\n",
      "2022-03-13 16:03:05.330233: W tensorflow/stream_executor/cuda/cuda_driver.cc:269] failed call to cuInit: UNKNOWN ERROR (303)\n",
      "2022-03-13 16:03:05.330259: I tensorflow/stream_executor/cuda/cuda_diagnostics.cc:156] kernel driver does not appear to be running on this host (Inspiron-5558): /proc/driver/nvidia/version does not exist\n",
      "2022-03-13 16:03:05.330516: I tensorflow/core/platform/cpu_feature_guard.cc:142] This TensorFlow binary is optimized with oneAPI Deep Neural Network Library (oneDNN) to use the following CPU instructions in performance-critical operations:  AVX2 FMA\n",
      "To enable them in other operations, rebuild TensorFlow with the appropriate compiler flags.\n"
     ]
    },
    {
     "name": "stdout",
     "output_type": "stream",
     "text": [
      "WARNING:tensorflow:No training configuration found in the save file, so the model was *not* compiled. Compile it manually.\n"
     ]
    },
    {
     "name": "stderr",
     "output_type": "stream",
     "text": [
      "2022-03-13 16:03:15.106396: W tensorflow/core/framework/cpu_allocator_impl.cc:80] Allocation of 131072000 exceeds 10% of free system memory.\n",
      "2022-03-13 16:03:17.913654: W tensorflow/core/framework/cpu_allocator_impl.cc:80] Allocation of 131072000 exceeds 10% of free system memory.\n",
      "2022-03-13 16:03:17.974059: W tensorflow/core/framework/cpu_allocator_impl.cc:80] Allocation of 131072000 exceeds 10% of free system memory.\n",
      "2022-03-13 16:03:18.029399: W tensorflow/core/framework/cpu_allocator_impl.cc:80] Allocation of 131072000 exceeds 10% of free system memory.\n",
      "2022-03-13 16:03:18.102845: W tensorflow/core/framework/cpu_allocator_impl.cc:80] Allocation of 262144000 exceeds 10% of free system memory.\n"
     ]
    }
   ],
   "source": [
    "#Generating samples for measuring performance\n",
    "\n",
    "import tensorflow as tf\n",
    "from tensorflow import random\n",
    "import matplotlib.pyplot as plt\n",
    "\n",
    "\n",
    "generator = tf.keras.models.load_model('datas/generator.h5')\n",
    "\n",
    "latent_dim = 100\n",
    "\n",
    "noises = random.normal([1000, latent_dim])\n",
    "example_images = generator(noises, training=False)\n",
    "\n",
    "seee = example_images[0].numpy()*127.5+127.5\n",
    "\n",
    "import numpy as np\n",
    "\n",
    "np.save(\"generated_samples.npy\", seee)"
   ]
  }
 ],
 "metadata": {
  "kernelspec": {
   "display_name": "Python 3 (ipykernel)",
   "language": "python",
   "name": "python3"
  },
  "language_info": {
   "codemirror_mode": {
    "name": "ipython",
    "version": 3
   },
   "file_extension": ".py",
   "mimetype": "text/x-python",
   "name": "python",
   "nbconvert_exporter": "python",
   "pygments_lexer": "ipython3",
   "version": "3.8.10"
  }
 },
 "nbformat": 4,
 "nbformat_minor": 5
}
