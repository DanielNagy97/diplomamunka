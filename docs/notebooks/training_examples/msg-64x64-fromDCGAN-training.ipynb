{
 "cells": [
  {
   "cell_type": "code",
   "execution_count": 1,
   "metadata": {
    "execution": {
     "iopub.execute_input": "2022-02-25T13:23:31.267984Z",
     "iopub.status.busy": "2022-02-25T13:23:31.267730Z",
     "iopub.status.idle": "2022-02-25T13:23:31.276266Z",
     "shell.execute_reply": "2022-02-25T13:23:31.275469Z",
     "shell.execute_reply.started": "2022-02-25T13:23:31.267955Z"
    }
   },
   "outputs": [
    {
     "name": "stderr",
     "output_type": "stream",
     "text": [
      "2022-02-28 18:11:22.933424: W tensorflow/stream_executor/platform/default/dso_loader.cc:64] Could not load dynamic library 'libcudart.so.11.0'; dlerror: libcudart.so.11.0: cannot open shared object file: No such file or directory\n",
      "2022-02-28 18:11:22.933457: I tensorflow/stream_executor/cuda/cudart_stub.cc:29] Ignore above cudart dlerror if you do not have a GPU set up on your machine.\n"
     ]
    }
   ],
   "source": [
    "import os\n",
    "import time\n",
    "\n",
    "import tensorflow as tf\n",
    "from tensorflow import keras\n",
    "import numpy as np\n",
    "\n",
    "import matplotlib.ticker as ticker\n",
    "import matplotlib.pyplot as plt"
   ]
  },
  {
   "cell_type": "code",
   "execution_count": 2,
   "metadata": {
    "execution": {
     "iopub.execute_input": "2022-02-25T13:23:31.710591Z",
     "iopub.status.busy": "2022-02-25T13:23:31.710324Z",
     "iopub.status.idle": "2022-02-25T13:23:41.554900Z",
     "shell.execute_reply": "2022-02-25T13:23:41.553350Z",
     "shell.execute_reply.started": "2022-02-25T13:23:31.710557Z"
    }
   },
   "outputs": [
    {
     "name": "stderr",
     "output_type": "stream",
     "text": [
      "2022-02-28 18:11:25.911828: W tensorflow/stream_executor/platform/default/dso_loader.cc:64] Could not load dynamic library 'libcuda.so.1'; dlerror: libcuda.so.1: cannot open shared object file: No such file or directory\n",
      "2022-02-28 18:11:25.911880: W tensorflow/stream_executor/cuda/cuda_driver.cc:269] failed call to cuInit: UNKNOWN ERROR (303)\n",
      "2022-02-28 18:11:25.911918: I tensorflow/stream_executor/cuda/cuda_diagnostics.cc:156] kernel driver does not appear to be running on this host (Inspiron-5558): /proc/driver/nvidia/version does not exist\n",
      "2022-02-28 18:11:25.912359: I tensorflow/core/platform/cpu_feature_guard.cc:142] This TensorFlow binary is optimized with oneAPI Deep Neural Network Library (oneDNN) to use the following CPU instructions in performance-critical operations:  AVX2 FMA\n",
      "To enable them in other operations, rebuild TensorFlow with the appropriate compiler flags.\n"
     ]
    },
    {
     "name": "stdout",
     "output_type": "stream",
     "text": [
      "Found 0 files belonging to 1 classes.\n"
     ]
    },
    {
     "ename": "ValueError",
     "evalue": "No images found.",
     "output_type": "error",
     "traceback": [
      "\u001b[0;31m---------------------------------------------------------------------------\u001b[0m",
      "\u001b[0;31mValueError\u001b[0m                                Traceback (most recent call last)",
      "\u001b[0;32m/tmp/ipykernel_22637/2075732561.py\u001b[0m in \u001b[0;36m<module>\u001b[0;34m\u001b[0m\n\u001b[1;32m      9\u001b[0m \u001b[0mdata_dir\u001b[0m \u001b[0;34m=\u001b[0m \u001b[0;34mr'../input/animal-faces/afhq/train/'\u001b[0m\u001b[0;34m\u001b[0m\u001b[0;34m\u001b[0m\u001b[0m\n\u001b[1;32m     10\u001b[0m \u001b[0;34m\u001b[0m\u001b[0m\n\u001b[0;32m---> 11\u001b[0;31m dataset = image_dataset_from_directory(\n\u001b[0m\u001b[1;32m     12\u001b[0m     \u001b[0mdata_dir\u001b[0m\u001b[0;34m,\u001b[0m \u001b[0mlabel_mode\u001b[0m\u001b[0;34m=\u001b[0m\u001b[0;32mNone\u001b[0m\u001b[0;34m,\u001b[0m \u001b[0mimage_size\u001b[0m\u001b[0;34m=\u001b[0m\u001b[0mimage_size\u001b[0m\u001b[0;34m,\u001b[0m \u001b[0mbatch_size\u001b[0m\u001b[0;34m=\u001b[0m\u001b[0mbatch_size\u001b[0m\u001b[0;34m\u001b[0m\u001b[0;34m\u001b[0m\u001b[0m\n\u001b[1;32m     13\u001b[0m )\n",
      "\u001b[0;32m~/.local/lib/python3.8/site-packages/keras/preprocessing/image_dataset.py\u001b[0m in \u001b[0;36mimage_dataset_from_directory\u001b[0;34m(directory, labels, label_mode, class_names, color_mode, batch_size, image_size, shuffle, seed, validation_split, subset, interpolation, follow_links, crop_to_aspect_ratio, **kwargs)\u001b[0m\n\u001b[1;32m    205\u001b[0m       image_paths, labels, validation_split, subset)\n\u001b[1;32m    206\u001b[0m   \u001b[0;32mif\u001b[0m \u001b[0;32mnot\u001b[0m \u001b[0mimage_paths\u001b[0m\u001b[0;34m:\u001b[0m\u001b[0;34m\u001b[0m\u001b[0;34m\u001b[0m\u001b[0m\n\u001b[0;32m--> 207\u001b[0;31m     \u001b[0;32mraise\u001b[0m \u001b[0mValueError\u001b[0m\u001b[0;34m(\u001b[0m\u001b[0;34m'No images found.'\u001b[0m\u001b[0;34m)\u001b[0m\u001b[0;34m\u001b[0m\u001b[0;34m\u001b[0m\u001b[0m\n\u001b[0m\u001b[1;32m    208\u001b[0m \u001b[0;34m\u001b[0m\u001b[0m\n\u001b[1;32m    209\u001b[0m   dataset = paths_and_labels_to_dataset(\n",
      "\u001b[0;31mValueError\u001b[0m: No images found."
     ]
    }
   ],
   "source": [
    "epochs = 20\n",
    "number_of_examples = 8\n",
    "batch_size = 16\n",
    "latent_dim = 100\n",
    "image_size = (64, 64) # h x w\n",
    "\n",
    "seed = tf.random.normal([number_of_examples, latent_dim])\n",
    "\n",
    "data_dir = r'../input/animal-faces/afhq/train/'\n",
    "\n",
    "dataset = keras.preprocessing.image_dataset_from_directory(\n",
    "    data_dir, label_mode=None, image_size=image_size, batch_size=batch_size\n",
    ")"
   ]
  },
  {
   "cell_type": "code",
   "execution_count": 5,
   "metadata": {
    "execution": {
     "iopub.execute_input": "2022-02-25T13:23:47.016236Z",
     "iopub.status.busy": "2022-02-25T13:23:47.015972Z",
     "iopub.status.idle": "2022-02-25T13:23:47.040403Z",
     "shell.execute_reply": "2022-02-25T13:23:47.039771Z",
     "shell.execute_reply.started": "2022-02-25T13:23:47.016207Z"
    }
   },
   "outputs": [],
   "source": [
    "dataset = dataset.map(lambda x: (x - 127.5) / 127.5) # Normalizing to -1,1"
   ]
  },
  {
   "cell_type": "code",
   "execution_count": 3,
   "metadata": {
    "execution": {
     "iopub.execute_input": "2022-02-25T13:37:21.218353Z",
     "iopub.status.busy": "2022-02-25T13:37:21.218094Z",
     "iopub.status.idle": "2022-02-25T13:37:21.230757Z",
     "shell.execute_reply": "2022-02-25T13:37:21.230077Z",
     "shell.execute_reply.started": "2022-02-25T13:37:21.218323Z"
    }
   },
   "outputs": [],
   "source": [
    "def make_generator_model(latent_dim):\n",
    "    visible = keras.layers.Input(shape=[latent_dim])\n",
    "    hidden = keras.layers.Reshape((1, 1, 100))(visible)\n",
    "\n",
    "    hidden = keras.layers.Conv2DTranspose(filters=512, kernel_size=4, strides=(1, 1),\n",
    "                                          padding='valid', activation=\"relu\")(hidden)\n",
    "    hidden = keras.layers.BatchNormalization()(hidden)\n",
    "    out4x4 = hidden\n",
    "    out4x4 = keras.layers.Conv2D(filters=3, kernel_size=4, strides=(1, 1), padding='same')(out4x4)\n",
    "    out4x4 = keras.layers.Activation(\"tanh\")(out4x4)\n",
    "\n",
    "\n",
    "    hidden = keras.layers.Conv2DTranspose(filters=256, kernel_size=4, strides=(2, 2),\n",
    "                                          padding='same', activation=\"relu\")(hidden)\n",
    "    hidden = keras.layers.BatchNormalization()(hidden)\n",
    "    out8x8 = hidden\n",
    "    out8x8 = keras.layers.Conv2D(filters=3, kernel_size=4, strides=(1, 1), padding='same')(out8x8)\n",
    "    out8x8 = keras.layers.Activation(\"tanh\")(out8x8)\n",
    "\n",
    "\n",
    "    hidden = keras.layers.Conv2DTranspose(filters=128, kernel_size=4, strides=(2, 2),\n",
    "                                          padding='same', activation=\"relu\")(hidden)\n",
    "    hidden = keras.layers.BatchNormalization()(hidden)\n",
    "    out16x16 = hidden\n",
    "    out16x16 = keras.layers.Conv2D(filters=3, kernel_size=4, strides=(1, 1), padding='same')(out16x16)\n",
    "    out16x16 = keras.layers.Activation(\"tanh\")(out16x16)\n",
    "\n",
    "\n",
    "    hidden = keras.layers.Conv2DTranspose(filters=64, kernel_size=4, strides=(2, 2),\n",
    "                                          padding='same', activation=\"relu\")(hidden)\n",
    "    hidden = keras.layers.BatchNormalization()(hidden)\n",
    "    out32x32 = hidden\n",
    "    out32x32 = keras.layers.Conv2D(filters=3, kernel_size=4, strides=(1, 1), padding='same')(out32x32)\n",
    "    out32x32 = keras.layers.Activation(\"tanh\")(out32x32)\n",
    "\n",
    "\n",
    "    hidden = keras.layers.Conv2DTranspose(filters=64, kernel_size=4, strides=(2, 2),\n",
    "                                          padding='same', activation=\"relu\")(hidden)\n",
    "    hidden = keras.layers.BatchNormalization()(hidden)\n",
    "    hidden = keras.layers.Conv2D(filters=3, kernel_size=4, strides=(1, 1), padding='same')(hidden)\n",
    "    out64x64 = keras.layers.Activation(\"tanh\")(hidden)\n",
    "    model = keras.models.Model(inputs=visible, outputs=[out64x64, out32x32, out16x16, out8x8, out4x4])\n",
    "\n",
    "    return model"
   ]
  },
  {
   "cell_type": "code",
   "execution_count": 4,
   "metadata": {
    "execution": {
     "iopub.execute_input": "2022-02-25T13:37:21.649787Z",
     "iopub.status.busy": "2022-02-25T13:37:21.648879Z",
     "iopub.status.idle": "2022-02-25T13:37:21.988625Z",
     "shell.execute_reply": "2022-02-25T13:37:21.987909Z",
     "shell.execute_reply.started": "2022-02-25T13:37:21.649738Z"
    }
   },
   "outputs": [
    {
     "data": {
      "text/plain": [
       "<matplotlib.image.AxesImage at 0x7ff31ab41220>"
      ]
     },
     "execution_count": 4,
     "metadata": {},
     "output_type": "execute_result"
    },
    {
     "data": {
      "image/png": "[encoded data removed]",
      "text/plain": [
       "<Figure size 432x288 with 1 Axes>"
      ]
     },
     "metadata": {
      "needs_background": "light"
     },
     "output_type": "display_data"
    }
   ],
   "source": [
    "generator = make_generator_model(latent_dim)\n",
    "\n",
    "noise = tf.random.normal([1, latent_dim])\n",
    "generated_image = generator(noise, training=False)\n",
    "\n",
    "plt.imshow((generated_image[0][0].numpy()*127.5+127.5).astype(\"uint32\"))"
   ]
  },
  {
   "cell_type": "code",
   "execution_count": 5,
   "metadata": {},
   "outputs": [
    {
     "name": "stdout",
     "output_type": "stream",
     "text": [
      "Model: \"model\"\n",
      "__________________________________________________________________________________________________\n",
      "Layer (type)                    Output Shape         Param #     Connected to                     \n",
      "==================================================================================================\n",
      "input_1 (InputLayer)            [(None, 100)]        0                                            \n",
      "__________________________________________________________________________________________________\n",
      "reshape (Reshape)               (None, 1, 1, 100)    0           input_1[0][0]                    \n",
      "__________________________________________________________________________________________________\n",
      "conv2d_transpose (Conv2DTranspo (None, 4, 4, 512)    819712      reshape[0][0]                    \n",
      "__________________________________________________________________________________________________\n",
      "batch_normalization (BatchNorma (None, 4, 4, 512)    2048        conv2d_transpose[0][0]           \n",
      "__________________________________________________________________________________________________\n",
      "conv2d_transpose_1 (Conv2DTrans (None, 8, 8, 256)    2097408     batch_normalization[0][0]        \n",
      "__________________________________________________________________________________________________\n",
      "batch_normalization_1 (BatchNor (None, 8, 8, 256)    1024        conv2d_transpose_1[0][0]         \n",
      "__________________________________________________________________________________________________\n",
      "conv2d_transpose_2 (Conv2DTrans (None, 16, 16, 128)  524416      batch_normalization_1[0][0]      \n",
      "__________________________________________________________________________________________________\n",
      "batch_normalization_2 (BatchNor (None, 16, 16, 128)  512         conv2d_transpose_2[0][0]         \n",
      "__________________________________________________________________________________________________\n",
      "conv2d_transpose_3 (Conv2DTrans (None, 32, 32, 64)   131136      batch_normalization_2[0][0]      \n",
      "__________________________________________________________________________________________________\n",
      "batch_normalization_3 (BatchNor (None, 32, 32, 64)   256         conv2d_transpose_3[0][0]         \n",
      "__________________________________________________________________________________________________\n",
      "conv2d_transpose_4 (Conv2DTrans (None, 64, 64, 64)   65600       batch_normalization_3[0][0]      \n",
      "__________________________________________________________________________________________________\n",
      "batch_normalization_4 (BatchNor (None, 64, 64, 64)   256         conv2d_transpose_4[0][0]         \n",
      "__________________________________________________________________________________________________\n",
      "conv2d_4 (Conv2D)               (None, 64, 64, 3)    3075        batch_normalization_4[0][0]      \n",
      "__________________________________________________________________________________________________\n",
      "conv2d_3 (Conv2D)               (None, 32, 32, 3)    3075        batch_normalization_3[0][0]      \n",
      "__________________________________________________________________________________________________\n",
      "conv2d_2 (Conv2D)               (None, 16, 16, 3)    6147        batch_normalization_2[0][0]      \n",
      "__________________________________________________________________________________________________\n",
      "conv2d_1 (Conv2D)               (None, 8, 8, 3)      12291       batch_normalization_1[0][0]      \n",
      "__________________________________________________________________________________________________\n",
      "conv2d (Conv2D)                 (None, 4, 4, 3)      24579       batch_normalization[0][0]        \n",
      "__________________________________________________________________________________________________\n",
      "activation_4 (Activation)       (None, 64, 64, 3)    0           conv2d_4[0][0]                   \n",
      "__________________________________________________________________________________________________\n",
      "activation_3 (Activation)       (None, 32, 32, 3)    0           conv2d_3[0][0]                   \n",
      "__________________________________________________________________________________________________\n",
      "activation_2 (Activation)       (None, 16, 16, 3)    0           conv2d_2[0][0]                   \n",
      "__________________________________________________________________________________________________\n",
      "activation_1 (Activation)       (None, 8, 8, 3)      0           conv2d_1[0][0]                   \n",
      "__________________________________________________________________________________________________\n",
      "activation (Activation)         (None, 4, 4, 3)      0           conv2d[0][0]                     \n",
      "==================================================================================================\n",
      "Total params: 3,691,535\n",
      "Trainable params: 3,689,487\n",
      "Non-trainable params: 2,048\n",
      "__________________________________________________________________________________________________\n"
     ]
    }
   ],
   "source": [
    "generator.summary()"
   ]
  },
  {
   "cell_type": "code",
   "execution_count": 10,
   "metadata": {
    "execution": {
     "iopub.execute_input": "2022-02-25T13:37:22.671047Z",
     "iopub.status.busy": "2022-02-25T13:37:22.670397Z",
     "iopub.status.idle": "2022-02-25T13:37:22.683474Z",
     "shell.execute_reply": "2022-02-25T13:37:22.682601Z",
     "shell.execute_reply.started": "2022-02-25T13:37:22.671007Z"
    }
   },
   "outputs": [],
   "source": [
    "def make_discriminator_model():\n",
    "    input1 = keras.layers.Input(shape=(64, 64, 3))\n",
    "    hidden = keras.layers.Conv2D(filters=64, kernel_size=4, strides=2, padding=\"same\",\n",
    "                                 activation=\"relu\", kernel_initializer=\"he_normal\")(input1)\n",
    "    hidden = keras.layers.BatchNormalization()(hidden)\n",
    "\n",
    "    input2 = keras.layers.Input(shape=(32, 32, 3))\n",
    "    hidden = keras.layers.Concatenate()([hidden, input2])\n",
    "    hidden = keras.layers.Conv2D(filters=128, kernel_size=4, strides=2, padding=\"same\",\n",
    "                                 activation=\"relu\", kernel_initializer=\"he_normal\")(hidden)\n",
    "    hidden = keras.layers.BatchNormalization()(hidden)\n",
    "\n",
    "    input3 = keras.layers.Input(shape=(16, 16, 3))\n",
    "    hidden = keras.layers.Concatenate()([hidden, input3])\n",
    "    hidden = keras.layers.Conv2D(filters=256, kernel_size=4, strides=2, padding=\"same\",\n",
    "                                 activation=\"relu\", kernel_initializer=\"he_normal\")(hidden)\n",
    "    hidden = keras.layers.BatchNormalization()(hidden)\n",
    "\n",
    "    input4 = keras.layers.Input(shape=(8, 8, 3))\n",
    "    hidden = keras.layers.Concatenate()([hidden, input4])\n",
    "    hidden = keras.layers.Conv2D(filters=512, kernel_size=4, strides=2, padding=\"same\",\n",
    "                                 activation=\"relu\", kernel_initializer=\"he_normal\")(hidden)\n",
    "    hidden = keras.layers.BatchNormalization()(hidden)\n",
    "\n",
    "    input5 = keras.layers.Input(shape=(4, 4, 3))\n",
    "    hidden = keras.layers.Concatenate()([hidden, input5])\n",
    "\n",
    "    hidden = keras.layers.Conv2D(filters=100, kernel_size=4, strides=1, padding=\"valid\", activation=\"relu\")(hidden)\n",
    "    hidden = keras.layers.Flatten()(hidden)\n",
    "    out = keras.layers.Dense(1)(hidden)\n",
    "    #out = keras.layers.Activation(\"sigmoid\")(hidden)\n",
    "    \n",
    "\n",
    "    model = keras.models.Model(inputs=[input1, input2, input3, input4, input5], outputs=[out])\n",
    "    return model"
   ]
  },
  {
   "cell_type": "code",
   "execution_count": 11,
   "metadata": {
    "execution": {
     "iopub.execute_input": "2022-02-25T13:37:22.999476Z",
     "iopub.status.busy": "2022-02-25T13:37:22.999238Z",
     "iopub.status.idle": "2022-02-25T13:37:23.095635Z",
     "shell.execute_reply": "2022-02-25T13:37:23.094846Z",
     "shell.execute_reply.started": "2022-02-25T13:37:22.999448Z"
    }
   },
   "outputs": [
    {
     "name": "stdout",
     "output_type": "stream",
     "text": [
      "tf.Tensor([[0.49975345]], shape=(1, 1), dtype=float32)\n"
     ]
    }
   ],
   "source": [
    "discriminator = make_discriminator_model()\n",
    "decision = discriminator(generated_image, training=False)\n",
    "print(decision)"
   ]
  },
  {
   "cell_type": "code",
   "execution_count": 12,
   "metadata": {},
   "outputs": [
    {
     "name": "stdout",
     "output_type": "stream",
     "text": [
      "Model: \"model_3\"\n",
      "__________________________________________________________________________________________________\n",
      "Layer (type)                    Output Shape         Param #     Connected to                     \n",
      "==================================================================================================\n",
      "input_12 (InputLayer)           [(None, 64, 64, 3)]  0                                            \n",
      "__________________________________________________________________________________________________\n",
      "conv2d_15 (Conv2D)              (None, 32, 32, 64)   3136        input_12[0][0]                   \n",
      "__________________________________________________________________________________________________\n",
      "batch_normalization_13 (BatchNo (None, 32, 32, 64)   256         conv2d_15[0][0]                  \n",
      "__________________________________________________________________________________________________\n",
      "input_13 (InputLayer)           [(None, 32, 32, 3)]  0                                            \n",
      "__________________________________________________________________________________________________\n",
      "concatenate_8 (Concatenate)     (None, 32, 32, 67)   0           batch_normalization_13[0][0]     \n",
      "                                                                 input_13[0][0]                   \n",
      "__________________________________________________________________________________________________\n",
      "conv2d_16 (Conv2D)              (None, 16, 16, 128)  137344      concatenate_8[0][0]              \n",
      "__________________________________________________________________________________________________\n",
      "batch_normalization_14 (BatchNo (None, 16, 16, 128)  512         conv2d_16[0][0]                  \n",
      "__________________________________________________________________________________________________\n",
      "input_14 (InputLayer)           [(None, 16, 16, 3)]  0                                            \n",
      "__________________________________________________________________________________________________\n",
      "concatenate_9 (Concatenate)     (None, 16, 16, 131)  0           batch_normalization_14[0][0]     \n",
      "                                                                 input_14[0][0]                   \n",
      "__________________________________________________________________________________________________\n",
      "conv2d_17 (Conv2D)              (None, 8, 8, 256)    536832      concatenate_9[0][0]              \n",
      "__________________________________________________________________________________________________\n",
      "batch_normalization_15 (BatchNo (None, 8, 8, 256)    1024        conv2d_17[0][0]                  \n",
      "__________________________________________________________________________________________________\n",
      "input_15 (InputLayer)           [(None, 8, 8, 3)]    0                                            \n",
      "__________________________________________________________________________________________________\n",
      "concatenate_10 (Concatenate)    (None, 8, 8, 259)    0           batch_normalization_15[0][0]     \n",
      "                                                                 input_15[0][0]                   \n",
      "__________________________________________________________________________________________________\n",
      "conv2d_18 (Conv2D)              (None, 4, 4, 512)    2122240     concatenate_10[0][0]             \n",
      "__________________________________________________________________________________________________\n",
      "batch_normalization_16 (BatchNo (None, 4, 4, 512)    2048        conv2d_18[0][0]                  \n",
      "__________________________________________________________________________________________________\n",
      "input_16 (InputLayer)           [(None, 4, 4, 3)]    0                                            \n",
      "__________________________________________________________________________________________________\n",
      "concatenate_11 (Concatenate)    (None, 4, 4, 515)    0           batch_normalization_16[0][0]     \n",
      "                                                                 input_16[0][0]                   \n",
      "__________________________________________________________________________________________________\n",
      "conv2d_19 (Conv2D)              (None, 1, 1, 100)    824100      concatenate_11[0][0]             \n",
      "__________________________________________________________________________________________________\n",
      "flatten_2 (Flatten)             (None, 100)          0           conv2d_19[0][0]                  \n",
      "__________________________________________________________________________________________________\n",
      "dense (Dense)                   (None, 1)            101         flatten_2[0][0]                  \n",
      "__________________________________________________________________________________________________\n",
      "activation_7 (Activation)       (None, 1)            0           dense[0][0]                      \n",
      "==================================================================================================\n",
      "Total params: 3,627,593\n",
      "Trainable params: 3,625,673\n",
      "Non-trainable params: 1,920\n",
      "__________________________________________________________________________________________________\n"
     ]
    }
   ],
   "source": [
    "discriminator.summary()"
   ]
  },
  {
   "cell_type": "code",
   "execution_count": 36,
   "metadata": {
    "execution": {
     "iopub.execute_input": "2022-02-25T13:37:23.650345Z",
     "iopub.status.busy": "2022-02-25T13:37:23.649681Z",
     "iopub.status.idle": "2022-02-25T13:37:23.656724Z",
     "shell.execute_reply": "2022-02-25T13:37:23.656033Z",
     "shell.execute_reply.started": "2022-02-25T13:37:23.650311Z"
    }
   },
   "outputs": [],
   "source": [
    "if not os.path.isdir(\"epochs\"):\n",
    "    os.mkdir(\"epochs\")\n",
    "def plot_examples(images_at_scales, epoch):\n",
    "    n_examples = images_at_scales[0].shape[0]\n",
    "    fig, axes = plt.subplots(figsize=(5, n_examples), nrows=n_examples, ncols=5, dpi=100)\n",
    "    for i in range(n_examples):\n",
    "        for j in range(5):\n",
    "            generated_images = images_at_scales[4-j]\n",
    "            gen_1 = generated_images[i].numpy()*127.5+127.5\n",
    "            axes[i, j].axis('off')\n",
    "            axes[i, j].imshow((gen_1).astype(\"uint32\"), interpolation='none')\n",
    "    plt.savefig('epochs/image_at_epoch_{:04d}.png'.format(epoch))\n",
    "    plt.show()"
   ]
  },
  {
   "cell_type": "code",
   "execution_count": 37,
   "metadata": {
    "execution": {
     "iopub.execute_input": "2022-02-25T13:37:24.067819Z",
     "iopub.status.busy": "2022-02-25T13:37:24.067601Z",
     "iopub.status.idle": "2022-02-25T13:37:24.073333Z",
     "shell.execute_reply": "2022-02-25T13:37:24.072409Z",
     "shell.execute_reply.started": "2022-02-25T13:37:24.067794Z"
    }
   },
   "outputs": [],
   "source": [
    "cross_entropy = keras.losses.BinaryCrossentropy(from_logits=True)\n",
    "\n",
    "def discriminator_loss(real_output, fake_output):\n",
    "    real_loss = cross_entropy(tf.ones_like(real_output), real_output)\n",
    "    fake_loss = cross_entropy(tf.zeros_like(fake_output), fake_output)\n",
    "    \n",
    "    total_loss = real_loss + fake_loss\n",
    "    return total_loss\n",
    "\n",
    "# The generator is performing well, if the discriminator classifies fakes as real(1)\n",
    "def generator_loss(fake_output):\n",
    "    return cross_entropy(tf.ones_like(fake_output), fake_output)"
   ]
  },
  {
   "cell_type": "code",
   "execution_count": 38,
   "metadata": {
    "execution": {
     "iopub.execute_input": "2022-02-25T13:37:24.469860Z",
     "iopub.status.busy": "2022-02-25T13:37:24.469280Z",
     "iopub.status.idle": "2022-02-25T13:37:24.475042Z",
     "shell.execute_reply": "2022-02-25T13:37:24.473898Z",
     "shell.execute_reply.started": "2022-02-25T13:37:24.469820Z"
    }
   },
   "outputs": [],
   "source": [
    "generator_optimizer = keras.optimizers.Adam(1e-4)\n",
    "discriminator_optimizer = keras.optimizers.Adam(1e-4)"
   ]
  },
  {
   "cell_type": "code",
   "execution_count": 39,
   "metadata": {
    "execution": {
     "iopub.execute_input": "2022-02-25T13:37:24.845970Z",
     "iopub.status.busy": "2022-02-25T13:37:24.845757Z",
     "iopub.status.idle": "2022-02-25T13:37:24.856405Z",
     "shell.execute_reply": "2022-02-25T13:37:24.855711Z",
     "shell.execute_reply.started": "2022-02-25T13:37:24.845945Z"
    }
   },
   "outputs": [],
   "source": [
    "checkpoint_dir = './training_checkpoints'\n",
    "checkpoint_prefix = os.path.join(checkpoint_dir, \"ckpt\")\n",
    "checkpoint = tf.train.Checkpoint(generator_optimizer=generator_optimizer,\n",
    "                                 discriminator_optimizer=discriminator_optimizer,\n",
    "                                 generator=generator,\n",
    "                                 discriminator=discriminator)"
   ]
  },
  {
   "cell_type": "code",
   "execution_count": 40,
   "metadata": {
    "execution": {
     "iopub.execute_input": "2022-02-25T13:37:25.209037Z",
     "iopub.status.busy": "2022-02-25T13:37:25.208672Z",
     "iopub.status.idle": "2022-02-25T13:37:25.263178Z",
     "shell.execute_reply": "2022-02-25T13:37:25.262527Z",
     "shell.execute_reply.started": "2022-02-25T13:37:25.209007Z"
    }
   },
   "outputs": [],
   "source": [
    "@tf.function\n",
    "def train_step(images):\n",
    "    noise = random.normal([batch_size, latent_dim])\n",
    "\n",
    "    with tf.GradientTape() as gen_tape, tf.GradientTape() as disc_tape:\n",
    "        generated_images = generator(noise, training=True)\n",
    "\n",
    "        real_output = discriminator(images, training=True)\n",
    "        fake_output = discriminator(generated_images, training=True)\n",
    "\n",
    "        gen_loss = generator_loss(fake_output)\n",
    "        disc_loss = discriminator_loss(real_output, fake_output)\n",
    "\n",
    "    gradients_of_generator = gen_tape.gradient(\n",
    "        gen_loss,\n",
    "        generator.trainable_variables\n",
    "    )\n",
    "\n",
    "    gradients_of_discriminator = disc_tape.gradient(\n",
    "        disc_loss,\n",
    "        discriminator.trainable_variables\n",
    "    )\n",
    "\n",
    "    generator_optimizer.apply_gradients(\n",
    "        zip(gradients_of_generator,\n",
    "            generator.trainable_variables)\n",
    "        )\n",
    "    discriminator_optimizer.apply_gradients(\n",
    "        zip(gradients_of_discriminator,\n",
    "            discriminator.trainable_variables)\n",
    "        )\n",
    "\n",
    "    return (gen_loss, disc_loss)"
   ]
  },
  {
   "cell_type": "code",
   "execution_count": 41,
   "metadata": {
    "execution": {
     "iopub.execute_input": "2022-02-25T13:37:25.608139Z",
     "iopub.status.busy": "2022-02-25T13:37:25.607586Z",
     "iopub.status.idle": "2022-02-25T13:37:25.612974Z",
     "shell.execute_reply": "2022-02-25T13:37:25.612328Z",
     "shell.execute_reply.started": "2022-02-25T13:37:25.608109Z"
    }
   },
   "outputs": [],
   "source": [
    "def scale_input_images(image_batch):\n",
    "    result = []\n",
    "    result.append(image_batch)\n",
    "    result.append(tf.image.resize(image_batch, [32, 32]))\n",
    "    result.append(tf.image.resize(image_batch, [16, 16]))\n",
    "    result.append(tf.image.resize(image_batch, [8, 8]))\n",
    "    result.append(tf.image.resize(image_batch, [4, 4]))\n",
    "    \n",
    "    return result"
   ]
  },
  {
   "cell_type": "code",
   "execution_count": 42,
   "metadata": {
    "execution": {
     "iopub.execute_input": "2022-02-25T13:37:25.980432Z",
     "iopub.status.busy": "2022-02-25T13:37:25.979806Z",
     "iopub.status.idle": "2022-02-25T13:37:25.992211Z",
     "shell.execute_reply": "2022-02-25T13:37:25.991447Z",
     "shell.execute_reply.started": "2022-02-25T13:37:25.980394Z"
    }
   },
   "outputs": [],
   "source": [
    "def train(dataset, epochs):\n",
    "    generator_losses = np.empty((0, 0), dtype=float)\n",
    "    discriminator_losses = np.empty((0, 0), dtype=float)\n",
    "    for epoch in range(epochs):\n",
    "        start = time.time()\n",
    "        \n",
    "        batch_generator_losses = np.empty((0, 0), dtype=float)\n",
    "        batch_discriminator_losses = np.empty((0, 0), dtype=float)\n",
    "        for (batch, image_batch) in enumerate(dataset):\n",
    "            scaled_batch = scale_input_images(image_batch)\n",
    "            gen_loss, disc_loss = train_step(scaled_batch)\n",
    "            \n",
    "            if batch % 100 == 0:\n",
    "                average_batch_loss =\\\n",
    "                   gen_loss.numpy()/int(image_batch.shape[1])\n",
    "                print(f\"\"\"Epoch {epoch+1}\n",
    "                        Batch {batch} Loss {average_batch_loss:.4f}\"\"\")\n",
    "\n",
    "            batch_generator_losses = np.append(batch_generator_losses, gen_loss)\n",
    "            batch_discriminator_losses = np.append(batch_discriminator_losses, disc_loss)\n",
    "            \n",
    "        if generator_losses.shape == (0, 0):\n",
    "            generator_losses = batch_generator_losses\n",
    "            discriminator_losses = batch_discriminator_losses\n",
    "        else:\n",
    "            generator_losses = np.vstack(\n",
    "                [generator_losses, batch_generator_losses]\n",
    "            )\n",
    "            discriminator_losses = np.vstack(\n",
    "                [discriminator_losses, batch_discriminator_losses]\n",
    "            )\n",
    "            \n",
    "        # Saving the model every 15 epochs\n",
    "        if (epoch + 1) % 15 == 0:\n",
    "            checkpoint.save(file_prefix = checkpoint_prefix)\n",
    "            \n",
    "        print ('Time for epoch {} is {} sec'.format(epoch + 1, time.time()-start))\n",
    "\n",
    "        # Producing images for the GIF\n",
    "        #display.clear_output(wait=True)\n",
    "        example_images = generator(seed, training=False)\n",
    "        plot_examples(example_images, epoch)\n",
    "        \n",
    "\n",
    "    # Generating after the final epoch\n",
    "    example_images = generator(seed, training=False)\n",
    "    plot_examples(example_images, epoch)\n",
    "    \n",
    "    return (generator_losses, discriminator_losses)"
   ]
  },
  {
   "cell_type": "code",
   "execution_count": 51,
   "metadata": {
    "execution": {
     "iopub.execute_input": "2022-02-25T14:35:36.923217Z",
     "iopub.status.busy": "2022-02-25T14:35:36.922957Z",
     "iopub.status.idle": "2022-02-25T15:06:14.426315Z",
     "shell.execute_reply": "2022-02-25T15:06:14.425421Z",
     "shell.execute_reply.started": "2022-02-25T14:35:36.923186Z"
    }
   },
   "outputs": [],
   "source": [
    "# Training the model\n",
    "(generator_losses, discriminator_losses) = train(dataset, 50)"
   ]
  },
  {
   "cell_type": "code",
   "execution_count": 52,
   "metadata": {
    "execution": {
     "iopub.execute_input": "2022-02-25T15:06:37.318067Z",
     "iopub.status.busy": "2022-02-25T15:06:37.317775Z",
     "iopub.status.idle": "2022-02-25T15:06:37.608139Z",
     "shell.execute_reply": "2022-02-25T15:06:37.607360Z",
     "shell.execute_reply.started": "2022-02-25T15:06:37.318026Z"
    }
   },
   "outputs": [],
   "source": [
    "gen = generator_losses[:epochs].mean(axis=1) / batch_size\n",
    "disc = discriminator_losses[:epochs].mean(axis=1) / batch_size\n",
    "\n",
    "fig_1 = plt.figure(figsize=(8, 4), dpi=100)\n",
    "ax = fig_1.add_axes([0, 0, 1, 1])\n",
    "ax.set_xlabel('Epoch')\n",
    "ax.set_ylabel('Loss')\n",
    "ax.set_title('DCGAN hibaértékei az első 50 epoch alatt')\n",
    "ax.plot(np.linspace(1, epochs, epochs), gen, label='Generator')\n",
    "ax.plot(np.linspace(1, epochs, epochs), disc, label='Discriminator')\n",
    "ax.legend(loc=0)\n",
    "\n",
    "ax.grid(True, color='0.6', dashes=(5, 2, 1, 2))\n",
    "ax.yaxis.set_major_locator(ticker.MultipleLocator(0.05))\n",
    "\n",
    "x_ticks = np.arange(0, epochs+1, 5)\n",
    "x_ticks[0] = 1\n",
    "ax.set_xticks(x_ticks)\n",
    "plt.show()"
   ]
  },
  {
   "cell_type": "code",
   "execution_count": 61,
   "metadata": {
    "execution": {
     "iopub.execute_input": "2022-02-25T15:11:20.907500Z",
     "iopub.status.busy": "2022-02-25T15:11:20.907252Z",
     "iopub.status.idle": "2022-02-25T15:11:23.906973Z",
     "shell.execute_reply": "2022-02-25T15:11:23.906375Z",
     "shell.execute_reply.started": "2022-02-25T15:11:20.907471Z"
    }
   },
   "outputs": [],
   "source": [
    "noises = tf.random.normal([16, latent_dim])\n",
    "example_images = generator(noises, training=False)\n",
    "\n",
    "plt.imshow((example_images[0][0].numpy()*127.5+127.5).astype(\"uint32\"), interpolation='none')\n",
    "plot_examples(example_images, 0)"
   ]
  }
 ],
 "metadata": {
  "kernelspec": {
   "display_name": "Python 3 (ipykernel)",
   "language": "python",
   "name": "python3"
  },
  "language_info": {
   "codemirror_mode": {
    "name": "ipython",
    "version": 3
   },
   "file_extension": ".py",
   "mimetype": "text/x-python",
   "name": "python",
   "nbconvert_exporter": "python",
   "pygments_lexer": "ipython3",
   "version": "3.8.10"
  }
 },
 "nbformat": 4,
 "nbformat_minor": 4
}
