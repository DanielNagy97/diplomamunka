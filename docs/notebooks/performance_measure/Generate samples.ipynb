{
 "cells": [
  {
   "cell_type": "code",
   "execution_count": 10,
   "id": "31bbe499",
   "metadata": {},
   "outputs": [
    {
     "name": "stdout",
     "output_type": "stream",
     "text": [
      "WARNING:tensorflow:No training configuration found in the save file, so the model was *not* compiled. Compile it manually.\n"
     ]
    }
   ],
   "source": [
    "#Generating samples for measuring performance\n",
    "\n",
    "import tensorflow as tf\n",
    "from tensorflow import random\n",
    "import matplotlib.pyplot as plt\n",
    "import numpy as np\n",
    "\n",
    "generator = tf.keras.models.load_model('../msgGeneratorCifar10.h5')\n",
    "\n",
    "latent_dim = 100\n",
    "\n",
    "noises = tf.random.normal([1000, latent_dim])\n",
    "example_images = generator(noises, training=False)[0]\n",
    "\n",
    "normalized_samples = example_images.numpy()*127.5+127.5\n",
    "\n",
    "np.save(\"generated_samples.npy\", normalized_samples)"
   ]
  }
 ],
 "metadata": {
  "kernelspec": {
   "display_name": "Python 3 (ipykernel)",
   "language": "python",
   "name": "python3"
  },
  "language_info": {
   "codemirror_mode": {
    "name": "ipython",
    "version": 3
   },
   "file_extension": ".py",
   "mimetype": "text/x-python",
   "name": "python",
   "nbconvert_exporter": "python",
   "pygments_lexer": "ipython3",
   "version": "3.8.10"
  }
 },
 "nbformat": 4,
 "nbformat_minor": 5
}
