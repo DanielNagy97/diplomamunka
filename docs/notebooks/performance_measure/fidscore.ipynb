{
 "cells": [
  {
   "cell_type": "code",
   "execution_count": null,
   "metadata": {
    "execution": {
     "iopub.execute_input": "2022-05-03T06:18:18.388849Z",
     "iopub.status.busy": "2022-05-03T06:18:18.388572Z",
     "iopub.status.idle": "2022-05-03T06:18:18.396758Z",
     "shell.execute_reply": "2022-05-03T06:18:18.393779Z",
     "shell.execute_reply.started": "2022-05-03T06:18:18.388816Z"
    }
   },
   "outputs": [],
   "source": [
    "# Code derived from: https://github.com/bioinf-jku/TTUR\n",
    "from __future__ import absolute_import, division, print_function\n",
    "import os\n",
    "import glob\n",
    "import numpy as np\n",
    "import fid\n",
    "\n",
    "import tensorflow.compat.v1 as tf # The is score was made in tensorflow v1\n",
    "tf.disable_v2_behavior()          # These two lines solves the problem\n",
    "\n",
    "# Paths\n",
    "samples_path = '.generated_samples/msggan/afhq/'\n",
    "stats_path = './fid_stats-afhq64x64.npz' # training set statistics\n",
    "inception_path = fid.check_or_download_inception(None) # download inception network"
   ]
  },
  {
   "cell_type": "code",
   "execution_count": null,
   "metadata": {
    "execution": {
     "iopub.execute_input": "2022-05-03T06:18:18.979313Z",
     "iopub.status.busy": "2022-05-03T06:18:18.978935Z",
     "iopub.status.idle": "2022-05-03T06:18:25.273774Z",
     "shell.execute_reply": "2022-05-03T06:18:25.27293Z",
     "shell.execute_reply.started": "2022-05-03T06:18:18.979278Z"
    }
   },
   "outputs": [],
   "source": [
    "out_path = samples_path\n",
    "res = []\n",
    "for file in os.listdir(out_path):\n",
    "    print(out_path + file)\n",
    "    res.append(np.load(out_path + file))\n",
    "        \n",
    "numpy_data = np.empty((0, ) + res[0].shape[1:])\n",
    "for img in res:\n",
    "    numpy_data = np.concatenate((numpy_data, img))\n",
    "\n",
    "input_list = []\n",
    "for image in numpy_data:\n",
    "    input_list.append(image)"
   ]
  },
  {
   "cell_type": "code",
   "execution_count": null,
   "metadata": {
    "execution": {
     "iopub.execute_input": "2022-05-03T06:18:25.275711Z",
     "iopub.status.busy": "2022-05-03T06:18:25.275447Z",
     "iopub.status.idle": "2022-05-03T06:18:25.57038Z",
     "shell.execute_reply": "2022-05-03T06:18:25.569561Z",
     "shell.execute_reply.started": "2022-05-03T06:18:25.275674Z"
    }
   },
   "outputs": [],
   "source": [
    "images = np.array(input_list)"
   ]
  },
  {
   "cell_type": "code",
   "execution_count": null,
   "metadata": {
    "execution": {
     "iopub.execute_input": "2022-05-03T06:18:25.572204Z",
     "iopub.status.busy": "2022-05-03T06:18:25.571921Z",
     "iopub.status.idle": "2022-05-03T06:19:01.452888Z",
     "shell.execute_reply": "2022-05-03T06:19:01.450076Z",
     "shell.execute_reply.started": "2022-05-03T06:18:25.572166Z"
    }
   },
   "outputs": [],
   "source": [
    "# load precalculated training set statistics\n",
    "f = np.load(stats_path)\n",
    "mu_real, sigma_real = f['mu'][:], f['sigma'][:]\n",
    "f.close()\n",
    "\n",
    "fid.create_inception_graph(inception_path)  # load the graph into the current TF graph\n",
    "with tf.Session() as sess:\n",
    "    sess.run(tf.global_variables_initializer())\n",
    "    mu_gen, sigma_gen = fid.calculate_activation_statistics(images, sess, batch_size=100)\n",
    "\n",
    "fid_value = fid.calculate_frechet_distance(mu_gen, sigma_gen, mu_real, sigma_real)\n",
    "print(\"FID: %s\" % fid_value)"
   ]
  }
 ],
 "metadata": {
  "kernelspec": {
   "display_name": "Python 3 (ipykernel)",
   "language": "python",
   "name": "python3"
  },
  "language_info": {
   "codemirror_mode": {
    "name": "ipython",
    "version": 3
   },
   "file_extension": ".py",
   "mimetype": "text/x-python",
   "name": "python",
   "nbconvert_exporter": "python",
   "pygments_lexer": "ipython3",
   "version": "3.8.10"
  }
 },
 "nbformat": 4,
 "nbformat_minor": 4
}
