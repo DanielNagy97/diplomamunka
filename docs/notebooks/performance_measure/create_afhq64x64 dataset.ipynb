{
 "cells": [
  {
   "cell_type": "markdown",
   "id": "129f0d3b",
   "metadata": {},
   "source": [
    "Az AFHQ adathalmazon betanított generátor az eredeti adathalmaz 64x64-es felbontásra leredukált változatán tanult be. Ezen notebook az FID számoláshoz szükséges kisebb felbontású adathalmazt készíti el csupán, hogy a számolás során a generátor és az adathalmaz felbontása megegyezzen.\n",
    "A hivatalos FID számoló kód az adathalmazt file-ból olvassa be, így szükségesnek éreztem az adathalmaz újboli kimentését alacsonyabb felbontás mellett."
   ]
  },
  {
   "cell_type": "code",
   "execution_count": 11,
   "id": "a3ba2c96",
   "metadata": {},
   "outputs": [],
   "source": [
    "import tensorflow as tf\n",
    "from tensorflow import keras\n",
    "\n",
    "from PIL import Image\n",
    "import os\n",
    "import numpy as np"
   ]
  },
  {
   "cell_type": "code",
   "execution_count": 4,
   "id": "e10b0848",
   "metadata": {},
   "outputs": [
    {
     "name": "stdout",
     "output_type": "stream",
     "text": [
      "Found 14630 files belonging to 1 classes.\n"
     ]
    },
    {
     "name": "stderr",
     "output_type": "stream",
     "text": [
      "2022-05-03 07:01:56.058157: W tensorflow/stream_executor/platform/default/dso_loader.cc:64] Could not load dynamic library 'libcuda.so.1'; dlerror: libcuda.so.1: cannot open shared object file: No such file or directory\n",
      "2022-05-03 07:01:56.058192: W tensorflow/stream_executor/cuda/cuda_driver.cc:269] failed call to cuInit: UNKNOWN ERROR (303)\n",
      "2022-05-03 07:01:56.058219: I tensorflow/stream_executor/cuda/cuda_diagnostics.cc:156] kernel driver does not appear to be running on this host (Inspiron-5558): /proc/driver/nvidia/version does not exist\n",
      "2022-05-03 07:01:56.058582: I tensorflow/core/platform/cpu_feature_guard.cc:142] This TensorFlow binary is optimized with oneAPI Deep Neural Network Library (oneDNN) to use the following CPU instructions in performance-critical operations:  AVX2 FMA\n",
      "To enable them in other operations, rebuild TensorFlow with the appropriate compiler flags.\n"
     ]
    }
   ],
   "source": [
    "batch_size = 16\n",
    "\n",
    "image_size = (64, 64) # h x w\n",
    "\n",
    "data_dir = r'./datas/afhq/train/'\n",
    "\n",
    "dataset = keras.preprocessing.image_dataset_from_directory(\n",
    "    data_dir, label_mode=None, image_size=image_size, batch_size=batch_size\n",
    ")"
   ]
  },
  {
   "cell_type": "code",
   "execution_count": 7,
   "id": "4b45942f",
   "metadata": {},
   "outputs": [],
   "source": [
    "image_path = \"datas/afhq64x64\"\n",
    "os.mkdir(image_path)"
   ]
  },
  {
   "cell_type": "code",
   "execution_count": 12,
   "id": "14651827",
   "metadata": {},
   "outputs": [],
   "source": [
    "count = 0\n",
    "for image_batch in dataset:\n",
    "    for image in image_batch:\n",
    "        img = Image.fromarray(np.uint8(image)).convert('RGB')\n",
    "        img.save(f\"{image_path}/{count}.png\")\n",
    "        count += 1"
   ]
  }
 ],
 "metadata": {
  "kernelspec": {
   "display_name": "Python 3 (ipykernel)",
   "language": "python",
   "name": "python3"
  },
  "language_info": {
   "codemirror_mode": {
    "name": "ipython",
    "version": 3
   },
   "file_extension": ".py",
   "mimetype": "text/x-python",
   "name": "python",
   "nbconvert_exporter": "python",
   "pygments_lexer": "ipython3",
   "version": "3.8.10"
  }
 },
 "nbformat": 4,
 "nbformat_minor": 5
}
