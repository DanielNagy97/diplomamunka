{
 "cells": [
  {
   "cell_type": "markdown",
   "id": "cd258478",
   "metadata": {},
   "source": [
    "# Regularizációs módszerek\n",
    "(Még csak a Batch Normalization-t próbáltam az alapokon kívül)\n",
    "\n",
    "A GAN tanítása során nehézségekbe ütközhetünk. Legrosszabb esetben nem is kezd el konvergálni a generátor kimenete a tanítóminta képeihez, viszont abban az esetben gyanakodhatunk, hogy a modellünk nem lett helyesen felépítve. Amennyiben mégis elkezd fejlődni a modell és nem csak zaj jelenik meg a kimeneten az egyes tanítólépések után, de bizonyos számú epoch után mode collapse lép fel, úgy fontolóra vehetjük a következő regularizációs technikákat.\n",
    "\n",
    "\n",
    "## Paraméterek helyes megválasztása\n",
    "\n",
    "## Megfelelő inicializációs stratégia\n",
    "\n",
    "## Batch normalization\n",
    "\n",
    "## Spectral Normalization\n",
    "\n",
    "## Experience replay\n",
    "\n",
    "## Mini-batch discrimination"
   ]
  }
 ],
 "metadata": {
  "kernelspec": {
   "display_name": "Python 3 (ipykernel)",
   "language": "python",
   "name": "python3"
  },
  "language_info": {
   "codemirror_mode": {
    "name": "ipython",
    "version": 3
   },
   "file_extension": ".py",
   "mimetype": "text/x-python",
   "name": "python",
   "nbconvert_exporter": "python",
   "pygments_lexer": "ipython3",
   "version": "3.8.10"
  }
 },
 "nbformat": 4,
 "nbformat_minor": 5
}
