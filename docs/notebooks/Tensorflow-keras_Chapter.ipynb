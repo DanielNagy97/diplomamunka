{
 "cells": [
  {
   "cell_type": "markdown",
   "id": "3952aaeb",
   "metadata": {},
   "source": [
    "# Tensorflow és Keras"
   ]
  },
  {
   "cell_type": "markdown",
   "id": "092551b6",
   "metadata": {},
   "source": [
    "A dolgozat programjának megvalósításához a _TensorFlow_ függvénykönyvtárat választottam ki. A TensorFlow egy ingyenes, open-source gépi tanulásra használatos függvénykönyvtár, amelyet elsősorban mélytanulásos alkalmazások megvalósítására alkalmaznak. A könyvtárat a _Google Brain_ fejlesztésében született meg.\n",
    "A _Keras_ függvénykönyvtár egy interfészt biztosít a TensorFlowhoz. Segítségével igazán egyszerűen, modulárisan és átláthatóan állíthatunk össze neurális hálózatokat.\n",
    "\n",
    "TODO: Keras és Tenforflow 2 bemutatása, példákkal, ábrákkal\n",
    "\n",
    "\n",
    "<img src=\"images/tensorflow-logo.png\" width=\"40%\">\n",
    "\n",
    "\n",
    "<img src=\"images/keras-logo.png\" width=\"30%\">\n",
    "\n",
    "\n",
    "```\n",
    "pip install tensorflow\n",
    "```"
   ]
  },
  {
   "cell_type": "markdown",
   "id": "2fa9b01d",
   "metadata": {},
   "source": [
    "# Modellek tanítása\n",
    "\n",
    "A mély neurális hálózatok tanítása igazán erőforrásigényes feladat. A tanítható paraméterek nem ritkán milliós nagyságrendűek, a dataset-eknek pedig kellően nagynak kell lenniük, a feldolgozandó adatoknak a memóriába is bele kell férnie. Egy-egy iteráció igen sok időbe tellhet egy gyengébb hardveren.\n",
    "\n",
    "Az első demóprogramok futtatása során szembesültem az első nehézséggel: A laptopom nem a legalkalmasabb a modellek tanítására. Az interneten felleltem a Google Colab környezetet, amely ingyenes virtuális környezetet biztosít a python notebook-ok szerkesztéséhez és futtatásához, egy előre meghatározotlan ideig GPU-t (Tesla K80) és TPU-t is biztosít. A napi GPU használatának limitje nincsen meghatározva, így egy idő után lekapcsolhatják és GPU nélkül megnövekszik a tanítás hossza. Az ingyenes verzióban a környezetet 12 óránként resetelik, így minden adat elvezhet, továbbá csak akkor futhat a script, ha meg van nyitva a böngészőablak. Természetesen a Keras ajánl lehetőségeket a modellek mentésére vagy a tanítás közbeni checkpoint-ok készítésére. Viszont számomra az ingyenes próbaverzió ilyen szempontból nem volt teljesen szimpatikus. Magyaroroszágon nem is lehet előfizetni még, így újabb felületet kellett keresnem. Egy fórumon böngészve találtam rá a Kaggle felületre, amely hasonló környezetet kínál, mint a Colab. Viszont jobb videókártyát biztosít, és a GPU használat heti szinten kerül meghatározásra órákban, ami csak a használat során számolódik. Továbbá lehetőséget kínál a notebookok ütemezett futtatására is és az oldalon megtalálható bármelyik datasetet könnyedén betölthetjük és használhatjuk. Mindezen előnyök miatt a Kaggle-t választottam a modelljeim tanítására.\n",
    "\n",
    "<img src=\"images/kaggle-logo.png\" width=\"20%\">\n",
    "\n",
    "Az alábbi táblázatban található meg a laptopom és a Kaggle által biztosított környezet specifikációi:\n",
    "\n",
    "|                    | CPU                                          | RAM  | GPU                          | HDD |\n",
    "| ------------------ | -------------------------------------------- | ---- | ---------------------------- | --- |\n",
    "| Dell Insprion-5558 | 4 x Intel(R) Core(TM) i3-5005U CPU @ 2.00GHz | 2x 4GB DDR3 1600 MHz | Intel HD Graphics 5500 (VGA) | 1 TB | \n",
    "| Kaggle környezet   | 2 x Intel(R) Xeon(R) CPU @ 2.00GHz           | 15GB | Nvidia Tesla P100-PCIE-16GB  | 73 GB |\n",
    "\n",
    "\n",
    "TODO: Egy konvolúciós hálózat tanításának hossza ábrázolása és összevetése (a rétegek növelésével és meghatározott adatmérettel)"
   ]
  },
  {
   "cell_type": "markdown",
   "id": "5fb2d230",
   "metadata": {},
   "source": [
    "A dolgozat terjedelme (a mellékletek nélkül számítva) diplomamunka esetén 60-90, szakdolgozat esetén 40-60 oldal között optimális.\n",
    "\n",
    "Az alábbi tagolás sorrendjének betartása nem kötelező, de az arányok lényegesek! \n",
    "1. Bevezető\n",
    "\n",
    "Feladat ismertetése, honnan jött az ötlet, kitőzött célok, követelmények, elvárások. (~ 2 oldal) \n",
    "\n",
    "2. Irodalom feldolgozás, háttér információk (~ 10%, de elméleti területen írt dolgozatok esetében ez akár 30% is lehet) \n",
    "    - Ha cég megbízásából dolgozunk, ebben a részben lehet ismertetni a vállalatot. \n",
    "    - Elméleti háttér ismertetése, hivatkozva a felhasznált irodalomra. \n",
    "3. A feladat megoldásához rendelkezésre álló technikák, technológiák, fejlesztőeszközök ismertetése, összehasonlítása, (előnyök, hátrányok ütköztetése, felhasználhatóság mérlegelése). (~ 25%) \n",
    "\n",
    "4. Saját teljesítmény előállításához ténylegesen felhasznált eszközök részletes ismertetése; a kiválasztás szempontjai, telepítés, használatba vétel előfeltételei és lépései (ha azok nem magától értetődők). (~ 20%) \n",
    "\n",
    "5. Saját munkánk (alkalmazásfejlesztés, mérés, tervezés stb.) részletes leírása, az eredmények szemléletes ismertetése. (~ 35%) \n",
    "\n",
    "6. Összegzés \n",
    "\n",
    "Tapasztalatok, eredmények összegzése; a feladat elkészítése során felmerült nehézségek, elkövetett hibák; jövőbeni fejlesztési lehetőségek. (~10%) "
   ]
  }
 ],
 "metadata": {
  "kernelspec": {
   "display_name": "Python 3 (ipykernel)",
   "language": "python",
   "name": "python3"
  },
  "language_info": {
   "codemirror_mode": {
    "name": "ipython",
    "version": 3
   },
   "file_extension": ".py",
   "mimetype": "text/x-python",
   "name": "python",
   "nbconvert_exporter": "python",
   "pygments_lexer": "ipython3",
   "version": "3.8.10"
  }
 },
 "nbformat": 4,
 "nbformat_minor": 5
}
