{
 "cells": [
  {
   "cell_type": "code",
   "execution_count": 1,
   "id": "2f01327f",
   "metadata": {},
   "outputs": [
    {
     "name": "stderr",
     "output_type": "stream",
     "text": [
      "2022-02-20 19:04:12.014229: W tensorflow/stream_executor/platform/default/dso_loader.cc:64] Could not load dynamic library 'libcudart.so.11.0'; dlerror: libcudart.so.11.0: cannot open shared object file: No such file or directory\n",
      "2022-02-20 19:04:12.014267: I tensorflow/stream_executor/cuda/cudart_stub.cc:29] Ignore above cudart dlerror if you do not have a GPU set up on your machine.\n"
     ]
    }
   ],
   "source": [
    "import tensorflow as tf\n",
    "\n",
    "from tensorflow.keras import Sequential\n",
    "from tensorflow.keras.layers import Conv2D\n",
    "from tensorflow.keras.layers import UpSampling2D\n",
    "from tensorflow.keras.layers import Reshape\n",
    "from tensorflow.keras.layers import Activation\n",
    "from tensorflow.keras.layers import Conv2DTranspose\n",
    "\n",
    "from tensorflow.keras.layers import Flatten\n",
    "from tensorflow.keras.layers import AveragePooling2D\n",
    "\n",
    "from tensorflow.keras.layers import BatchNormalization\n",
    "\n",
    "from tensorflow import random\n",
    "import matplotlib.pyplot as plt\n",
    "import matplotlib.image as mpimg\n",
    "import matplotlib.patches as patches\n",
    "import numpy as np"
   ]
  },
  {
   "cell_type": "code",
   "execution_count": 2,
   "id": "c8a2b3e5",
   "metadata": {},
   "outputs": [
    {
     "name": "stderr",
     "output_type": "stream",
     "text": [
      "2022-02-20 19:04:14.194600: W tensorflow/stream_executor/platform/default/dso_loader.cc:64] Could not load dynamic library 'libcuda.so.1'; dlerror: libcuda.so.1: cannot open shared object file: No such file or directory\n",
      "2022-02-20 19:04:14.194655: W tensorflow/stream_executor/cuda/cuda_driver.cc:269] failed call to cuInit: UNKNOWN ERROR (303)\n",
      "2022-02-20 19:04:14.194699: I tensorflow/stream_executor/cuda/cuda_diagnostics.cc:156] kernel driver does not appear to be running on this host (Inspiron-5558): /proc/driver/nvidia/version does not exist\n",
      "2022-02-20 19:04:14.195274: I tensorflow/core/platform/cpu_feature_guard.cc:142] This TensorFlow binary is optimized with oneAPI Deep Neural Network Library (oneDNN) to use the following CPU instructions in performance-critical operations:  AVX2 FMA\n",
      "To enable them in other operations, rebuild TensorFlow with the appropriate compiler flags.\n"
     ]
    }
   ],
   "source": [
    "# Látens tér dimenziószáma\n",
    "latent_dim = 512\n",
    "\n",
    "# Bemeneti zaj generálása\n",
    "noise = random.normal([1, latent_dim])"
   ]
  },
  {
   "cell_type": "code",
   "execution_count": 3,
   "id": "22f38607",
   "metadata": {},
   "outputs": [],
   "source": [
    "def add_upsampling_unit(model, units):\n",
    "    model.add(UpSampling2D())\n",
    "    model.add(\n",
    "        Conv2D(filters=units[0], kernel_size=(3, 3),\n",
    "               padding='same', activation=\"leaky_relu\")\n",
    "    )\n",
    "    model.add(\n",
    "        Conv2D(filters=units[1], kernel_size=(3, 3),\n",
    "               padding='same', activation=\"leaky_relu\")\n",
    "    )\n",
    "\n",
    "def make_generator_model(latent_dim):\n",
    "    model = Sequential()\n",
    "    \n",
    "    # out: 4x4x512\n",
    "    model.add(Reshape((1, 1, latent_dim), input_shape=[latent_dim]))\n",
    "    model.add(\n",
    "        Conv2DTranspose(filters=512, kernel_size=(4, 4),\n",
    "                        strides=(2, 2), padding=\"valid\",\n",
    "                        activation=\"leaky_relu\")\n",
    "    )\n",
    "    model.add(\n",
    "        Conv2D(filters=512, kernel_size=(3, 3),\n",
    "               padding='same', activation=\"leaky_relu\")\n",
    "    )\n",
    "    assert model.output_shape == (None, 4, 4, 512)\n",
    "    \n",
    "    # out: 8x8x512\n",
    "    add_upsampling_unit(model, (512, 512))\n",
    "    assert model.output_shape == (None, 8, 8, 512)\n",
    "    \n",
    "    # out: 16x16x512\n",
    "    add_upsampling_unit(model, (512, 512))\n",
    "    assert model.output_shape == (None, 16, 16, 512)\n",
    "    \n",
    "    # out: 32x32x512\n",
    "    add_upsampling_unit(model, (512, 512))\n",
    "    assert model.output_shape == (None, 32, 32, 512)\n",
    "    \n",
    "    # out: 64x64x256\n",
    "    add_upsampling_unit(model, (256, 256))\n",
    "    assert model.output_shape == (None, 64, 64, 256)\n",
    "    \n",
    "    # out: 128x128x128\n",
    "    add_upsampling_unit(model, (128, 128))\n",
    "    assert model.output_shape == (None, 128, 128, 128)\n",
    "    \n",
    "\n",
    "    model.add(Conv2D(3, kernel_size=3, padding='same'))\n",
    "    model.add(Activation(\"tanh\"))\n",
    "\n",
    "    return model"
   ]
  },
  {
   "cell_type": "code",
   "execution_count": 4,
   "id": "7c9b1253",
   "metadata": {},
   "outputs": [
    {
     "name": "stdout",
     "output_type": "stream",
     "text": [
      "Model: \"sequential\"\n",
      "_________________________________________________________________\n",
      "Layer (type)                 Output Shape              Param #   \n",
      "=================================================================\n",
      "reshape (Reshape)            (None, 1, 1, 512)         0         \n",
      "_________________________________________________________________\n",
      "conv2d_transpose (Conv2DTran (None, 4, 4, 512)         4194816   \n",
      "_________________________________________________________________\n",
      "conv2d (Conv2D)              (None, 4, 4, 512)         2359808   \n",
      "_________________________________________________________________\n",
      "up_sampling2d (UpSampling2D) (None, 8, 8, 512)         0         \n",
      "_________________________________________________________________\n",
      "conv2d_1 (Conv2D)            (None, 8, 8, 512)         2359808   \n",
      "_________________________________________________________________\n",
      "conv2d_2 (Conv2D)            (None, 8, 8, 512)         2359808   \n",
      "_________________________________________________________________\n",
      "up_sampling2d_1 (UpSampling2 (None, 16, 16, 512)       0         \n",
      "_________________________________________________________________\n",
      "conv2d_3 (Conv2D)            (None, 16, 16, 512)       2359808   \n",
      "_________________________________________________________________\n",
      "conv2d_4 (Conv2D)            (None, 16, 16, 512)       2359808   \n",
      "_________________________________________________________________\n",
      "up_sampling2d_2 (UpSampling2 (None, 32, 32, 512)       0         \n",
      "_________________________________________________________________\n",
      "conv2d_5 (Conv2D)            (None, 32, 32, 512)       2359808   \n",
      "_________________________________________________________________\n",
      "conv2d_6 (Conv2D)            (None, 32, 32, 512)       2359808   \n",
      "_________________________________________________________________\n",
      "up_sampling2d_3 (UpSampling2 (None, 64, 64, 512)       0         \n",
      "_________________________________________________________________\n",
      "conv2d_7 (Conv2D)            (None, 64, 64, 256)       1179904   \n",
      "_________________________________________________________________\n",
      "conv2d_8 (Conv2D)            (None, 64, 64, 256)       590080    \n",
      "_________________________________________________________________\n",
      "up_sampling2d_4 (UpSampling2 (None, 128, 128, 256)     0         \n",
      "_________________________________________________________________\n",
      "conv2d_9 (Conv2D)            (None, 128, 128, 128)     295040    \n",
      "_________________________________________________________________\n",
      "conv2d_10 (Conv2D)           (None, 128, 128, 128)     147584    \n",
      "_________________________________________________________________\n",
      "conv2d_11 (Conv2D)           (None, 128, 128, 3)       3459      \n",
      "_________________________________________________________________\n",
      "activation (Activation)      (None, 128, 128, 3)       0         \n",
      "=================================================================\n",
      "Total params: 22,929,539\n",
      "Trainable params: 22,929,539\n",
      "Non-trainable params: 0\n",
      "_________________________________________________________________\n",
      "None\n"
     ]
    }
   ],
   "source": [
    "random.set_seed(22)\n",
    "model = make_generator_model(latent_dim)\n",
    "print(model.summary())"
   ]
  },
  {
   "cell_type": "code",
   "execution_count": 5,
   "id": "484510a7",
   "metadata": {},
   "outputs": [
    {
     "data": {
      "text/plain": [
       "<matplotlib.image.AxesImage at 0x7fee98481040>"
      ]
     },
     "execution_count": 5,
     "metadata": {},
     "output_type": "execute_result"
    },
    {
     "data": {
      "image/png": "[encoded data removed]",
      "text/plain": [
       "<Figure size 432x288 with 1 Axes>"
      ]
     },
     "metadata": {
      "needs_background": "light"
     },
     "output_type": "display_data"
    }
   ],
   "source": [
    "generated_images = model(noise, training=False)\n",
    "gen_1 = generated_images[0].numpy()*127.5+127.5\n",
    "plt.imshow((gen_1).astype(\"uint32\"))"
   ]
  },
  {
   "cell_type": "code",
   "execution_count": 6,
   "id": "5129a252",
   "metadata": {},
   "outputs": [],
   "source": [
    "def add_downsampling_unit(model, units):\n",
    "    model.add(\n",
    "        Conv2D(filters=units[0], kernel_size=(3, 3),\n",
    "            padding=\"same\", activation=\"leaky_relu\")\n",
    "    )\n",
    "    model.add(\n",
    "        Conv2D(filters=units[1], kernel_size=(3, 3),\n",
    "            padding=\"same\", activation=\"leaky_relu\")\n",
    "    )\n",
    "    model.add(AveragePooling2D())\n",
    "\n",
    "def make_discriminator_model():\n",
    "    model = Sequential()\n",
    "    \n",
    "    # out: 64x64x256\n",
    "    model.add(\n",
    "        Conv2D(filters=128, kernel_size=(3, 3),\n",
    "            input_shape=(128, 128, 3), padding=\"same\",\n",
    "            activation=\"leaky_relu\")\n",
    "    )\n",
    "    model.add(\n",
    "        Conv2D(filters=256, kernel_size=(3, 3),\n",
    "            padding=\"same\", activation=\"leaky_relu\")\n",
    "    )\n",
    "    model.add(AveragePooling2D())\n",
    "    \n",
    "    # out: 32x32x512\n",
    "    add_downsampling_unit(model, (256, 512))\n",
    "    \n",
    "    # out: 16x16x512\n",
    "    add_downsampling_unit(model, (512, 512))\n",
    "    \n",
    "    # out: 8x8x512\n",
    "    add_downsampling_unit(model, (512, 512))\n",
    "    \n",
    "    # out: 4x4x512\n",
    "    add_downsampling_unit(model, (512, 512))\n",
    "    \n",
    "    # out: last\n",
    "    model.add(\n",
    "        Conv2D(filters=512, kernel_size=(3, 3),\n",
    "            padding=\"same\", activation=\"leaky_relu\")\n",
    "    )\n",
    "    model.add(\n",
    "        Conv2D(filters=512, kernel_size=(4, 4), strides=4,\n",
    "            padding=\"same\", activation=\"leaky_relu\")\n",
    "    )\n",
    "    \n",
    "    model.add(Flatten())\n",
    "    model.add(Activation(\"sigmoid\"))\n",
    "\n",
    "    return model"
   ]
  },
  {
   "cell_type": "code",
   "execution_count": 7,
   "id": "738f1819",
   "metadata": {},
   "outputs": [
    {
     "name": "stdout",
     "output_type": "stream",
     "text": [
      "Model: \"sequential_1\"\n",
      "_________________________________________________________________\n",
      "Layer (type)                 Output Shape              Param #   \n",
      "=================================================================\n",
      "conv2d_12 (Conv2D)           (None, 128, 128, 128)     3584      \n",
      "_________________________________________________________________\n",
      "conv2d_13 (Conv2D)           (None, 128, 128, 256)     295168    \n",
      "_________________________________________________________________\n",
      "average_pooling2d (AveragePo (None, 64, 64, 256)       0         \n",
      "_________________________________________________________________\n",
      "conv2d_14 (Conv2D)           (None, 64, 64, 256)       590080    \n",
      "_________________________________________________________________\n",
      "conv2d_15 (Conv2D)           (None, 64, 64, 512)       1180160   \n",
      "_________________________________________________________________\n",
      "average_pooling2d_1 (Average (None, 32, 32, 512)       0         \n",
      "_________________________________________________________________\n",
      "conv2d_16 (Conv2D)           (None, 32, 32, 512)       2359808   \n",
      "_________________________________________________________________\n",
      "conv2d_17 (Conv2D)           (None, 32, 32, 512)       2359808   \n",
      "_________________________________________________________________\n",
      "average_pooling2d_2 (Average (None, 16, 16, 512)       0         \n",
      "_________________________________________________________________\n",
      "conv2d_18 (Conv2D)           (None, 16, 16, 512)       2359808   \n",
      "_________________________________________________________________\n",
      "conv2d_19 (Conv2D)           (None, 16, 16, 512)       2359808   \n",
      "_________________________________________________________________\n",
      "average_pooling2d_3 (Average (None, 8, 8, 512)         0         \n",
      "_________________________________________________________________\n",
      "conv2d_20 (Conv2D)           (None, 8, 8, 512)         2359808   \n",
      "_________________________________________________________________\n",
      "conv2d_21 (Conv2D)           (None, 8, 8, 512)         2359808   \n",
      "_________________________________________________________________\n",
      "average_pooling2d_4 (Average (None, 4, 4, 512)         0         \n",
      "_________________________________________________________________\n",
      "conv2d_22 (Conv2D)           (None, 4, 4, 512)         2359808   \n",
      "_________________________________________________________________\n",
      "conv2d_23 (Conv2D)           (None, 1, 1, 512)         4194816   \n",
      "_________________________________________________________________\n",
      "flatten (Flatten)            (None, 512)               0         \n",
      "_________________________________________________________________\n",
      "activation_1 (Activation)    (None, 512)               0         \n",
      "=================================================================\n",
      "Total params: 22,782,464\n",
      "Trainable params: 22,782,464\n",
      "Non-trainable params: 0\n",
      "_________________________________________________________________\n",
      "None\n"
     ]
    }
   ],
   "source": [
    "discriminator = make_discriminator_model()\n",
    "print(discriminator.summary())"
   ]
  },
  {
   "cell_type": "code",
   "execution_count": null,
   "id": "c5e70a4a",
   "metadata": {},
   "outputs": [],
   "source": []
  }
 ],
 "metadata": {
  "kernelspec": {
   "display_name": "Python 3 (ipykernel)",
   "language": "python",
   "name": "python3"
  },
  "language_info": {
   "codemirror_mode": {
    "name": "ipython",
    "version": 3
   },
   "file_extension": ".py",
   "mimetype": "text/x-python",
   "name": "python",
   "nbconvert_exporter": "python",
   "pygments_lexer": "ipython3",
   "version": "3.8.10"
  }
 },
 "nbformat": 4,
 "nbformat_minor": 5
}
