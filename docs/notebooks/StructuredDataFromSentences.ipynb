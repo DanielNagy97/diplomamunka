{
 "cells": [
  {
   "cell_type": "markdown",
   "id": "0c704764",
   "metadata": {},
   "source": [
    "# NLP\n",
    "## Strukturált adat, például:\n",
    "```json\n",
    "{\n",
    "    \"labels\": {\n",
    "        \"dog\": 0.2,\n",
    "        \"cat\": 0.8\n",
    "    }\n",
    "    background: \"white\"\n",
    "}\n",
    "```\n",
    "Szabadszövegesen:\n",
    "\"A hóban játszik egy kutya és egy macska\".\n",
    "(Talál-e benne olyan szavakat, vagy azok szinonímáit, amelyek a betanított készletben benne vannak. Hogy ha nem, azt kihagyja. Explicit szinoníma fájl is lehet. Részsztring egyezés vizsgálat is elég (szógyök keresés vagy hasonlók elegendőek említés szintjén)).\n",
    "\n",
    "Ebből kinyerve:\n",
    "\"hóban\" => \"fehér háttér\"\n",
    "kutya, macska szó szerepel benne => \"labels\": {\"dog\", \"cat\"}"
   ]
  },
  {
   "cell_type": "code",
   "execution_count": null,
   "id": "a74c29ca",
   "metadata": {},
   "outputs": [],
   "source": []
  }
 ],
 "metadata": {
  "kernelspec": {
   "display_name": "Python 3 (ipykernel)",
   "language": "python",
   "name": "python3"
  },
  "language_info": {
   "codemirror_mode": {
    "name": "ipython",
    "version": 3
   },
   "file_extension": ".py",
   "mimetype": "text/x-python",
   "name": "python",
   "nbconvert_exporter": "python",
   "pygments_lexer": "ipython3",
   "version": "3.8.10"
  }
 },
 "nbformat": 4,
 "nbformat_minor": 5
}
