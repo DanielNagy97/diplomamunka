{
 "cells": [
  {
   "cell_type": "code",
   "execution_count": 1,
   "id": "8ece9f50",
   "metadata": {},
   "outputs": [],
   "source": [
    "def normalize_text(text):\n",
    "    punctuations = [\".\", \",\", \":\", \";\" \"!\", \"?\"]\n",
    "\n",
    "    normalized_text = text\n",
    "    for punctuation in punctuations:\n",
    "        normalized_text = normalized_text.replace(punctuation, \"\")\n",
    "\n",
    "    normalized_text = normalized_text.lower()\n",
    "\n",
    "    return normalized_text"
   ]
  },
  {
   "cell_type": "code",
   "execution_count": 2,
   "id": "4cedbf49",
   "metadata": {},
   "outputs": [],
   "source": [
    "def tokenize_text(text):\n",
    "    return text.split()"
   ]
  },
  {
   "cell_type": "code",
   "execution_count": 3,
   "id": "3ee90799",
   "metadata": {},
   "outputs": [],
   "source": [
    "def serialize_percentage_tokens(tokens):\n",
    "    # Putting value and percentage symbol pairs into one token\n",
    "    percentage_symbols = [\"%\", \"százalék\"]\n",
    "    unused_tokens = []\n",
    "    for i in range(len(tokens)):\n",
    "        for percentage_symbol in percentage_symbols:\n",
    "            if percentage_symbol == tokens[i]:\n",
    "                tokens[i-1] = tokens[i-1]+\"%\"\n",
    "                unused_tokens.append(tokens[i])\n",
    "    for i in unused_tokens:\n",
    "        tokens.remove(i)"
   ]
  },
  {
   "cell_type": "code",
   "execution_count": 4,
   "id": "22d164af",
   "metadata": {},
   "outputs": [],
   "source": [
    "def compare_two_tokens(token_a, token_b):\n",
    "    best_match = 0.0\n",
    "    offset = 0\n",
    "    while(offset <= len(token_b) - len(token_a)):\n",
    "        count = 0\n",
    "        for i in range(len(token_a)):\n",
    "            if(token_a[i] == token_b[offset + i]):\n",
    "                count += 1\n",
    "            else:\n",
    "                break\n",
    "        match_value = count/len(token_a)\n",
    "\n",
    "        if(match_value > best_match):\n",
    "            best_match = match_value\n",
    "        offset += 1\n",
    "    return best_match"
   ]
  },
  {
   "cell_type": "code",
   "execution_count": 5,
   "id": "08b5d5ff",
   "metadata": {},
   "outputs": [],
   "source": [
    "def find_best_match_for_token_among_tokens(test_token, tokens):\n",
    "    best_match = 0.0\n",
    "    for token in tokens:\n",
    "        match_value = compare_two_tokens(token, test_token)\n",
    "        if(match_value > best_match):\n",
    "            best_match = match_value\n",
    "            #print(token, test_token, match_value)\n",
    "    return best_match"
   ]
  },
  {
   "cell_type": "code",
   "execution_count": 6,
   "id": "ee7608b0",
   "metadata": {},
   "outputs": [],
   "source": [
    "def find_classes(tokens, synonyms):\n",
    "    threshold = 0.8\n",
    "    result_classes = []\n",
    "    for i in range(len(tokens)):\n",
    "        for key in synonyms.keys():\n",
    "            match_value = find_best_match_for_token_among_tokens(tokens[i], synonyms[key])\n",
    "            if(match_value >= threshold):\n",
    "                found_class = {\"token_id\" : i, \"class\" : key}\n",
    "                if not found_class in result_classes:\n",
    "                    result_classes.append(found_class)\n",
    "    return result_classes"
   ]
  },
  {
   "cell_type": "code",
   "execution_count": 7,
   "id": "eb86c607",
   "metadata": {},
   "outputs": [],
   "source": [
    "def find_percentage_values(tokens):\n",
    "    res = []\n",
    "    for i in range(len(tokens)):\n",
    "        if \"%\" in tokens[i]:\n",
    "            prob = int(tokens[i].split(\"%\")[0]) / 100\n",
    "            found_class = {\"token_id\" : i, \"value\" : prob}\n",
    "            if not found_class in res:\n",
    "                res.append(found_class)\n",
    "    return res"
   ]
  },
  {
   "cell_type": "code",
   "execution_count": 8,
   "id": "5f21a553",
   "metadata": {},
   "outputs": [],
   "source": [
    "def make_json_from_classes_old(res_classes, res_percentages, class_names):\n",
    "    # Calculating the weights according to the found classes\n",
    "    base_data = dict()\n",
    "    \n",
    "    for class_entity in class_names:\n",
    "        base_data[class_entity] = 0.0\n",
    "    \n",
    "    if(len(res_percentages) > 0):\n",
    "        for i in range(len(res_percentages)):\n",
    "            base_data[res_classes[i]['class']] = res_percentages[i]['value']\n",
    "    else:\n",
    "        for found_class in map(lambda x: x[\"class\"], res_classes):\n",
    "            base_data[found_class] = 1 / len(res_classes)\n",
    "    \n",
    "    return base_data"
   ]
  },
  {
   "cell_type": "code",
   "execution_count": 9,
   "id": "82a85883",
   "metadata": {},
   "outputs": [],
   "source": [
    "#TODO: ez nagyon csúnya, szépíteni kéne rajta...\n",
    "# Pl az if-en belül lévő dolgokat kirobbantani onnan...\n",
    "\n",
    "def make_json_from_classes(res_classes, res_probs, class_names):\n",
    "    base_data = dict()\n",
    "\n",
    "    for class_entity in class_names:\n",
    "        base_data[class_entity] = 0.0\n",
    "\n",
    "    if(len(res_probs) > 0):\n",
    "        found_classes = []\n",
    "        sums_of_prod = 0\n",
    "        for i in range(len(res_probs)):\n",
    "            for j in range(len(res_classes)):\n",
    "                if(res_probs[i][\"token_id\"] < res_classes[j][\"token_id\"]):\n",
    "                    base_data[res_classes[j]['class']] = res_probs[i]['value']\n",
    "                    sums_of_prod += res_probs[i]['value']\n",
    "                    found_classes.append(res_classes[j])\n",
    "                    break\n",
    "        if(sums_of_prod != 1):\n",
    "            if(len(found_classes) < len(res_classes)):\n",
    "                for found_class in found_classes:\n",
    "                    res_classes.remove(found_class)\n",
    "                for res_class in res_classes:\n",
    "                    base_data[res_class['class']] = (1 - sums_of_prod) / len(res_classes)\n",
    "            elif(len(found_classes) == len(res_classes)):\n",
    "                remaining_classes = list(class_names)\n",
    "                for found_class in found_classes:\n",
    "                    remaining_classes.remove(found_class['class'])\n",
    "                for remaining_class in remaining_classes:\n",
    "                    base_data[remaining_class] = (1 - sums_of_prod) / len(remaining_classes)\n",
    "    \n",
    "    else:\n",
    "        for found_class in map(lambda x: x[\"class\"], res_classes):\n",
    "            base_data[found_class] = 1 / len(res_classes)\n",
    "    return base_data"
   ]
  },
  {
   "cell_type": "code",
   "execution_count": 10,
   "id": "a8aeeea2",
   "metadata": {},
   "outputs": [],
   "source": [
    "def make_structured_data(input_sentence, synonyms):\n",
    "\n",
    "    normalized_text = normalize_text(input_sentence)\n",
    "    tokens = tokenize_text(normalized_text)\n",
    "    serialize_percentage_tokens(tokens)\n",
    "    \n",
    "    result_classes = find_classes(tokens, synonyms)\n",
    "    result_percentages = find_percentage_values(tokens)\n",
    "    \n",
    "    return make_json_from_classes(result_classes, result_percentages, synonyms.keys())"
   ]
  },
  {
   "cell_type": "code",
   "execution_count": 11,
   "id": "a30917c3",
   "metadata": {},
   "outputs": [],
   "source": [
    "# TODO: ezeket file-ban tárolni, mint szótár az adott modellhez...\n",
    "\n",
    "# from https://szinonimaszotar.hu\n",
    "synonyms_afhq = {\n",
    "    \"cat\": [\"macska\", \"cica\", \"cicus\", \"cirmos\", \"cicamica\", \"kandúr\", \"macsi\", \"macsek\", \"cicó\", \"cila\", \"macs\", \"cilamila\", \"macskusz\", \"cicuska\", \"ciculi\", \"cirmi\", \"cicuka\", \"cicmic\", \"cic\", \"ciccancs\", \"kismacska\", \"mafka\", \"kiscica\"],\n",
    "    \"dog\": [\"kutya\", \"eb\", \"kutyus\", \"kutyuli\", \"blöki\", \"véreb\", \"öleb\", \"kutyuska\", \"csahos\", \"házőrző\", \"kutyi\", \"bolhazsák\", \"kutyi-mutyi\", \"kutyuli-mutyuli\", \"vahúr\", \"négylábú\", \"kutyu\", \"kutyóka\"],\n",
    "    \"wild\": [\"vadállat\", \"vad\", \"szörny\", \"szörnyeteg\", \"fenevad\", \"bestia\", \"dúvad\", \"fúria\"]\n",
    "}\n",
    "\n",
    "synonyms_cifar = {\n",
    "    \"airplane\": [\"repülő\", \"repcsi\", \"göbzi\", \"repülőgép\", \"légibusz\", \"vasmadár\", \"légijármű\"],\n",
    "    \"automobile\": [\"autó\", \"gépkocsi\", \"gépjármű\", \"személygépkocsi\", \"személygépjármű\", \"automobil\", \"jármű\", \"verda\", \"kocsi\", \"gép\", \"járgány\", \"tragacs\", \"négykerekű\"],\n",
    "    \"bird\": [\"madár\", \"szárnyas\", \"csicsergő\", \"égivándor\", \"csirip\", \"csőrös\"],\n",
    "    \"cat\": [\"macska\", \"cica\", \"cicus\", \"cirmos\", \"cicamica\", \"kandúr\", \"macsi\", \"macsek\", \"cicó\", \"cila\", \"macs\", \"cilamila\", \"macskusz\", \"cicuska\", \"ciculi\", \"cirmi\", \"cicuka\", \"cicmic\", \"cic\", \"ciccancs\", \"kismacska\", \"mafka\", \"kiscica\"],\n",
    "    \"deer\": [\"szarvas\", \"agancsos\"],\n",
    "    \"dog\": [\"kutya\", \"eb\", \"kutyus\", \"kutyuli\", \"blöki\", \"véreb\", \"öleb\", \"kutyuska\", \"csahos\", \"házőrző\", \"kutyi\", \"bolhazsák\", \"kutyi-mutyi\", \"kutyuli-mutyuli\", \"vahúr\", \"négylábú\", \"kutyu\", \"kutyóka\"],\n",
    "    \"frog\": [\"béka\", \"breki\", \"varangy\", \"brekkencs\"],\n",
    "    \"horse\": [\"ló\", \"táltos\", \"mén\", \"csődör\", \"paci\", \"lovacska\", \"kanca\", \"hátasló\", \"paripa\", \"csataló\", \"csikó\", \"hátas\", \"cocó\", \"csida\", \"gebe\", \"pejkó\", \"patás\"],\n",
    "    \"ship\": [\"hajó\", \"ladik\", \"csónak\", \"sajka\", \"naszád\", \"bárka\", \"gálya\", \"yacht\", \"vitorlás\", \"kajak\", \"kenu\", \"lélekvesztő\", \"vízi jármű\", \"evezős hajó\"],\n",
    "    \"truck\": [\"kamion\", \"teherautó\", \"nyergesvontató\", \"tehergépkocsi\"]\n",
    "}"
   ]
  },
  {
   "cell_type": "code",
   "execution_count": 12,
   "id": "153672bd",
   "metadata": {},
   "outputs": [
    {
     "data": {
      "text/plain": [
       "{'cat': 0.75, 'dog': 0.25, 'wild': 0.0}"
      ]
     },
     "execution_count": 12,
     "metadata": {},
     "output_type": "execute_result"
    }
   ],
   "source": [
    "make_structured_data(\"75 % macska van a képen, 25 százalék pedig öleb.\", synonyms_afhq)"
   ]
  },
  {
   "cell_type": "code",
   "execution_count": 13,
   "id": "ddd90b5f",
   "metadata": {},
   "outputs": [
    {
     "data": {
      "text/plain": [
       "{'cat': 0.0, 'dog': 0.5, 'wild': 0.5}"
      ]
     },
     "execution_count": 13,
     "metadata": {},
     "output_type": "execute_result"
    }
   ],
   "source": [
    "make_structured_data(\"Egy vadkutya portréja található a képen.\", synonyms_afhq)"
   ]
  },
  {
   "cell_type": "code",
   "execution_count": 14,
   "id": "9cdcaaf1",
   "metadata": {},
   "outputs": [
    {
     "data": {
      "text/plain": [
       "{'cat': 0.3333333333333333,\n",
       " 'dog': 0.3333333333333333,\n",
       " 'wild': 0.3333333333333333}"
      ]
     },
     "execution_count": 14,
     "metadata": {},
     "output_type": "execute_result"
    }
   ],
   "source": [
    "make_structured_data(\"Egy vadmacskutyáról készült fotó.\", synonyms_afhq)"
   ]
  },
  {
   "cell_type": "code",
   "execution_count": 15,
   "id": "1a84c75a",
   "metadata": {},
   "outputs": [
    {
     "data": {
      "text/plain": [
       "{'airplane': 0.0,\n",
       " 'automobile': 0.0,\n",
       " 'bird': 0.0,\n",
       " 'cat': 0.0,\n",
       " 'deer': 0.0,\n",
       " 'dog': 0.0,\n",
       " 'frog': 0.0,\n",
       " 'horse': 0.0,\n",
       " 'ship': 1.0,\n",
       " 'truck': 0.0}"
      ]
     },
     "execution_count": 15,
     "metadata": {},
     "output_type": "execute_result"
    }
   ],
   "source": [
    "make_structured_data(\"Egy hajó a tengeren.\", synonyms_cifar)"
   ]
  },
  {
   "cell_type": "code",
   "execution_count": 16,
   "id": "66694be7",
   "metadata": {},
   "outputs": [
    {
     "data": {
      "text/plain": [
       "{'airplane': 0.0,\n",
       " 'automobile': 0.0,\n",
       " 'bird': 0.0,\n",
       " 'cat': 0.0,\n",
       " 'deer': 0.3,\n",
       " 'dog': 0.0,\n",
       " 'frog': 0.0,\n",
       " 'horse': 0.7,\n",
       " 'ship': 0.0,\n",
       " 'truck': 0.0}"
      ]
     },
     "execution_count": 16,
     "metadata": {},
     "output_type": "execute_result"
    }
   ],
   "source": [
    "make_structured_data(\"Fotó egy olyan lóról amely 30%-ban agancsos.\", synonyms_cifar)"
   ]
  },
  {
   "cell_type": "code",
   "execution_count": 17,
   "id": "1b40ddaf",
   "metadata": {},
   "outputs": [
    {
     "data": {
      "text/plain": [
       "{'airplane': 0.0,\n",
       " 'automobile': 0.0,\n",
       " 'bird': 0.0,\n",
       " 'cat': 0.5,\n",
       " 'deer': 0.0,\n",
       " 'dog': 0.5,\n",
       " 'frog': 0.0,\n",
       " 'horse': 0.0,\n",
       " 'ship': 0.0,\n",
       " 'truck': 0.0}"
      ]
     },
     "execution_count": 17,
     "metadata": {},
     "output_type": "execute_result"
    }
   ],
   "source": [
    "make_structured_data(\"A macskutya a cifar adathalmazban is kísért!\", synonyms_cifar)"
   ]
  },
  {
   "cell_type": "code",
   "execution_count": 18,
   "id": "fb0d565c",
   "metadata": {},
   "outputs": [
    {
     "data": {
      "text/plain": [
       "{'airplane': 0.03333333333333334,\n",
       " 'automobile': 0.03333333333333334,\n",
       " 'bird': 0.03333333333333334,\n",
       " 'cat': 0.03333333333333334,\n",
       " 'deer': 0.03333333333333334,\n",
       " 'dog': 0.03333333333333334,\n",
       " 'frog': 0.03333333333333334,\n",
       " 'horse': 0.7,\n",
       " 'ship': 0.03333333333333334,\n",
       " 'truck': 0.03333333333333334}"
      ]
     },
     "execution_count": 18,
     "metadata": {},
     "output_type": "execute_result"
    }
   ],
   "source": [
    "# Halló - ló\n",
    "make_structured_data(\"70%-nyi Hallókészülék.\", synonyms_cifar)"
   ]
  }
 ],
 "metadata": {
  "kernelspec": {
   "display_name": "Python 3 (ipykernel)",
   "language": "python",
   "name": "python3"
  },
  "language_info": {
   "codemirror_mode": {
    "name": "ipython",
    "version": 3
   },
   "file_extension": ".py",
   "mimetype": "text/x-python",
   "name": "python",
   "nbconvert_exporter": "python",
   "pygments_lexer": "ipython3",
   "version": "3.8.10"
  }
 },
 "nbformat": 4,
 "nbformat_minor": 5
}
