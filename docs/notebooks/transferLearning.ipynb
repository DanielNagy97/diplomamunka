{
 "cells": [
  {
   "cell_type": "code",
   "execution_count": 24,
   "metadata": {
    "execution": {
     "iopub.execute_input": "2022-04-17T10:27:04.451703Z",
     "iopub.status.busy": "2022-04-17T10:27:04.451322Z",
     "iopub.status.idle": "2022-04-17T10:27:04.455396Z",
     "shell.execute_reply": "2022-04-17T10:27:04.454660Z",
     "shell.execute_reply.started": "2022-04-17T10:27:04.451669Z"
    }
   },
   "outputs": [],
   "source": [
    "import tensorflow as tf\n",
    "from tensorflow import keras\n"
   ]
  },
  {
   "cell_type": "code",
   "execution_count": 25,
   "metadata": {
    "execution": {
     "iopub.execute_input": "2022-04-17T10:27:04.496021Z",
     "iopub.status.busy": "2022-04-17T10:27:04.495572Z",
     "iopub.status.idle": "2022-04-17T10:27:08.093821Z",
     "shell.execute_reply": "2022-04-17T10:27:08.093091Z",
     "shell.execute_reply.started": "2022-04-17T10:27:04.495989Z"
    }
   },
   "outputs": [],
   "source": [
    "epochs = 50\n",
    "image_size = (64, 64) # h x w\n",
    "data_dir = r'../input/animal-faces/afhq/train/'\n",
    "\n",
    "dataset_train = keras.preprocessing.image_dataset_from_directory(\n",
    "    data_dir, label_mode='categorical',\n",
    "    image_size=image_size, batch_size=32, seed=42, validation_split=0.05, subset=\"training\"\n",
    ")\n",
    "\n",
    "dataset_validation = keras.preprocessing.image_dataset_from_directory(\n",
    "    data_dir, label_mode='categorical',\n",
    "    image_size=image_size, batch_size=32, seed=42, validation_split=0.05, subset=\"validation\"\n",
    ")\n",
    "\n",
    "dataset_train = dataset_train.map(lambda x, y: (((x - 127.5) / 127.5), y)) # Normalizing to -1,1\n",
    "dataset_validation = dataset_validation.map(lambda x, y: (((x - 127.5) / 127.5), y)) # Normalizing to -1,1"
   ]
  },
  {
   "cell_type": "code",
   "execution_count": 26,
   "metadata": {
    "execution": {
     "iopub.execute_input": "2022-04-17T10:27:08.099862Z",
     "iopub.status.busy": "2022-04-17T10:27:08.097974Z",
     "iopub.status.idle": "2022-04-17T10:27:08.277484Z",
     "shell.execute_reply": "2022-04-17T10:27:08.276834Z",
     "shell.execute_reply.started": "2022-04-17T10:27:08.099823Z"
    }
   },
   "outputs": [],
   "source": [
    "data_dir = r'../input/animal-faces/afhq/val/'\n",
    "\n",
    "dataset_test = keras.preprocessing.image_dataset_from_directory(\n",
    "    data_dir, label_mode='categorical',\n",
    "    image_size=image_size, batch_size=32\n",
    ")\n",
    "\n",
    "dataset_test = dataset_test.map(lambda x, y: (((x - 127.5) / 127.5), y)) # Normalizing to -1,1\n"
   ]
  },
  {
   "cell_type": "code",
   "execution_count": 27,
   "metadata": {
    "execution": {
     "iopub.execute_input": "2022-04-17T10:27:08.278924Z",
     "iopub.status.busy": "2022-04-17T10:27:08.278666Z",
     "iopub.status.idle": "2022-04-17T10:27:08.295095Z",
     "shell.execute_reply": "2022-04-17T10:27:08.294340Z",
     "shell.execute_reply.started": "2022-04-17T10:27:08.278888Z"
    }
   },
   "outputs": [],
   "source": [
    "data_augmentation = tf.keras.Sequential([\n",
    "  tf.keras.layers.RandomFlip('horizontal'),\n",
    "  tf.keras.layers.RandomRotation(0.2),\n",
    "])\n"
   ]
  },
  {
   "cell_type": "code",
   "execution_count": 28,
   "metadata": {
    "execution": {
     "iopub.execute_input": "2022-04-17T10:27:08.297880Z",
     "iopub.status.busy": "2022-04-17T10:27:08.297611Z",
     "iopub.status.idle": "2022-04-17T10:27:10.108424Z",
     "shell.execute_reply": "2022-04-17T10:27:10.107566Z",
     "shell.execute_reply.started": "2022-04-17T10:27:08.297842Z"
    }
   },
   "outputs": [],
   "source": [
    "inception_model = keras.applications.inception_v3.InceptionV3(\n",
    "    input_shape=(299, 299, 3),\n",
    "    weights='imagenet',\n",
    "    include_top=False\n",
    ")"
   ]
  },
  {
   "cell_type": "code",
   "execution_count": 29,
   "metadata": {
    "execution": {
     "iopub.execute_input": "2022-04-17T10:27:10.109999Z",
     "iopub.status.busy": "2022-04-17T10:27:10.109750Z",
     "iopub.status.idle": "2022-04-17T10:27:10.555391Z",
     "shell.execute_reply": "2022-04-17T10:27:10.554658Z",
     "shell.execute_reply.started": "2022-04-17T10:27:10.109967Z"
    }
   },
   "outputs": [],
   "source": [
    "image_batch, label_batch = next(iter(dataset_train))\n",
    "print(image_batch.shape, label_batch.shape)\n",
    "resized = tf.image.resize(image_batch, [299, 299], preserve_aspect_ratio=True, method='nearest')\n",
    "\n",
    "feature_batch = inception_model(resized)\n",
    "print(feature_batch.shape)\n",
    "# (32, 8, 8, 2048) kimenete lesz a képeknek"
   ]
  },
  {
   "cell_type": "code",
   "execution_count": 30,
   "metadata": {
    "execution": {
     "iopub.execute_input": "2022-04-17T10:27:10.557176Z",
     "iopub.status.busy": "2022-04-17T10:27:10.556786Z",
     "iopub.status.idle": "2022-04-17T10:27:10.571069Z",
     "shell.execute_reply": "2022-04-17T10:27:10.570043Z",
     "shell.execute_reply.started": "2022-04-17T10:27:10.557140Z"
    }
   },
   "outputs": [],
   "source": [
    "# Freezing the base model\n",
    "inception_model.trainable = False"
   ]
  },
  {
   "cell_type": "markdown",
   "metadata": {},
   "source": [
    "Important note about BatchNormalization layers\n",
    "\n",
    "Many models contain tf.keras.layers.BatchNormalization layers. This layer is a special case and precautions should be taken in the context of fine-tuning, as shown later in this tutorial.\n",
    "\n",
    "When you set layer.trainable = False, the BatchNormalization layer will run in inference mode, and will not update its mean and variance statistics.\n",
    "\n",
    "When you unfreeze a model that contains BatchNormalization layers in order to do fine-tuning, you should keep the BatchNormalization layers in inference mode by passing training = False when calling the base model. Otherwise, the updates applied to the non-trainable weights will destroy what the model has learned."
   ]
  },
  {
   "cell_type": "code",
   "execution_count": 31,
   "metadata": {
    "execution": {
     "iopub.execute_input": "2022-04-17T10:27:10.572793Z",
     "iopub.status.busy": "2022-04-17T10:27:10.572449Z",
     "iopub.status.idle": "2022-04-17T10:27:10.711652Z",
     "shell.execute_reply": "2022-04-17T10:27:10.710964Z",
     "shell.execute_reply.started": "2022-04-17T10:27:10.572756Z"
    }
   },
   "outputs": [],
   "source": [
    "inception_model.summary()\n"
   ]
  },
  {
   "cell_type": "code",
   "execution_count": 32,
   "metadata": {
    "execution": {
     "iopub.execute_input": "2022-04-17T10:27:10.714349Z",
     "iopub.status.busy": "2022-04-17T10:27:10.714157Z",
     "iopub.status.idle": "2022-04-17T10:27:11.365285Z",
     "shell.execute_reply": "2022-04-17T10:27:11.364555Z",
     "shell.execute_reply.started": "2022-04-17T10:27:10.714325Z"
    }
   },
   "outputs": [],
   "source": [
    "# Az összerakott modell\n",
    "inputs = keras.Input(shape=(64, 64, 3))\n",
    "x = data_augmentation(inputs)\n",
    "resized = tf.image.resize(x, [299, 299], preserve_aspect_ratio=True, method='nearest')\n",
    "x = inception_model(resized, training=False)\n",
    "x = keras.layers.GlobalAveragePooling2D()(x)\n",
    "x = keras.layers.Dropout(0.2)(x)\n",
    "x = keras.layers.Dense(3)(x)\n",
    "outputs = keras.layers.Activation(\"softmax\")(x)\n",
    "model = keras.Model(inputs, outputs)"
   ]
  },
  {
   "cell_type": "code",
   "execution_count": 33,
   "metadata": {
    "execution": {
     "iopub.execute_input": "2022-04-17T10:27:11.366964Z",
     "iopub.status.busy": "2022-04-17T10:27:11.366584Z",
     "iopub.status.idle": "2022-04-17T10:27:11.380711Z",
     "shell.execute_reply": "2022-04-17T10:27:11.379929Z",
     "shell.execute_reply.started": "2022-04-17T10:27:11.366930Z"
    }
   },
   "outputs": [],
   "source": [
    "base_learning_rate = 0.0001\n",
    "model.compile(optimizer=keras.optimizers.Adam(learning_rate=base_learning_rate),\n",
    "              loss=keras.losses.CategoricalCrossentropy(from_logits=False),\n",
    "              metrics=['accuracy'])"
   ]
  },
  {
   "cell_type": "code",
   "execution_count": 34,
   "metadata": {
    "execution": {
     "iopub.execute_input": "2022-04-17T10:27:11.385069Z",
     "iopub.status.busy": "2022-04-17T10:27:11.384804Z",
     "iopub.status.idle": "2022-04-17T10:27:11.407545Z",
     "shell.execute_reply": "2022-04-17T10:27:11.406369Z",
     "shell.execute_reply.started": "2022-04-17T10:27:11.385035Z"
    }
   },
   "outputs": [],
   "source": [
    "model.summary()\n"
   ]
  },
  {
   "cell_type": "code",
   "execution_count": 35,
   "metadata": {
    "execution": {
     "iopub.execute_input": "2022-04-17T10:27:11.409291Z",
     "iopub.status.busy": "2022-04-17T10:27:11.409047Z",
     "iopub.status.idle": "2022-04-17T10:27:11.417102Z",
     "shell.execute_reply": "2022-04-17T10:27:11.416221Z",
     "shell.execute_reply.started": "2022-04-17T10:27:11.409259Z"
    }
   },
   "outputs": [],
   "source": [
    "len(model.trainable_variables)\n"
   ]
  },
  {
   "cell_type": "code",
   "execution_count": 36,
   "metadata": {
    "execution": {
     "iopub.execute_input": "2022-04-17T10:27:11.418922Z",
     "iopub.status.busy": "2022-04-17T10:27:11.418673Z",
     "iopub.status.idle": "2022-04-17T10:27:15.087143Z",
     "shell.execute_reply": "2022-04-17T10:27:15.086459Z",
     "shell.execute_reply.started": "2022-04-17T10:27:11.418890Z"
    }
   },
   "outputs": [],
   "source": [
    "initial_epochs = 10\n",
    "\n",
    "loss0, accuracy0 = model.evaluate(dataset_validation)\n"
   ]
  },
  {
   "cell_type": "code",
   "execution_count": 37,
   "metadata": {
    "execution": {
     "iopub.execute_input": "2022-04-17T10:27:15.088767Z",
     "iopub.status.busy": "2022-04-17T10:27:15.088308Z",
     "iopub.status.idle": "2022-04-17T10:27:15.093816Z",
     "shell.execute_reply": "2022-04-17T10:27:15.093132Z",
     "shell.execute_reply.started": "2022-04-17T10:27:15.088725Z"
    }
   },
   "outputs": [],
   "source": [
    "print(\"initial loss: {:.4f}\".format(loss0))\n",
    "print(\"initial accuracy: {:.4f}\".format(accuracy0))"
   ]
  },
  {
   "cell_type": "code",
   "execution_count": 38,
   "metadata": {
    "execution": {
     "iopub.execute_input": "2022-04-17T10:27:15.095645Z",
     "iopub.status.busy": "2022-04-17T10:27:15.095143Z",
     "iopub.status.idle": "2022-04-17T10:34:14.659530Z",
     "shell.execute_reply": "2022-04-17T10:34:14.658839Z",
     "shell.execute_reply.started": "2022-04-17T10:27:15.095609Z"
    }
   },
   "outputs": [],
   "source": [
    "history = model.fit(dataset_train,\n",
    "                    epochs=initial_epochs,\n",
    "                    validation_data=dataset_validation)"
   ]
  },
  {
   "cell_type": "code",
   "execution_count": 44,
   "metadata": {
    "execution": {
     "iopub.execute_input": "2022-04-17T10:34:48.029893Z",
     "iopub.status.busy": "2022-04-17T10:34:48.029347Z",
     "iopub.status.idle": "2022-04-17T10:34:48.322607Z",
     "shell.execute_reply": "2022-04-17T10:34:48.321921Z",
     "shell.execute_reply.started": "2022-04-17T10:34:48.029853Z"
    }
   },
   "outputs": [],
   "source": [
    "import matplotlib.pyplot as plt\n",
    "\n",
    "acc = history.history['accuracy']\n",
    "val_acc = history.history['val_accuracy']\n",
    "\n",
    "loss = history.history['loss']\n",
    "val_loss = history.history['val_loss']\n",
    "\n",
    "plt.figure(figsize=(8, 8))\n",
    "plt.subplot(2, 1, 1)\n",
    "plt.plot(acc, label='Training Accuracy')\n",
    "plt.plot(val_acc, label='Validation Accuracy')\n",
    "plt.legend(loc='lower right')\n",
    "plt.ylabel('Accuracy')\n",
    "plt.ylim([min(plt.ylim()),1])\n",
    "plt.title('Training and Validation Accuracy')\n",
    "\n",
    "plt.subplot(2, 1, 2)\n",
    "plt.plot(loss, label='Training Loss')\n",
    "plt.plot(val_loss, label='Validation Loss')\n",
    "plt.legend(loc='upper right')\n",
    "plt.ylabel('Cross Entropy')\n",
    "plt.ylim([0,1.0])\n",
    "plt.title('Training and Validation Loss')\n",
    "plt.xlabel('epoch')\n",
    "plt.show()\n"
   ]
  },
  {
   "cell_type": "code",
   "execution_count": 45,
   "metadata": {
    "execution": {
     "iopub.execute_input": "2022-04-17T10:34:58.099102Z",
     "iopub.status.busy": "2022-04-17T10:34:58.098554Z",
     "iopub.status.idle": "2022-04-17T10:35:03.239784Z",
     "shell.execute_reply": "2022-04-17T10:35:03.238994Z",
     "shell.execute_reply.started": "2022-04-17T10:34:58.099065Z"
    }
   },
   "outputs": [],
   "source": [
    "loss, accuracy = model.evaluate(dataset_test)\n",
    "print('Test accuracy :', accuracy)\n"
   ]
  },
  {
   "cell_type": "code",
   "execution_count": 46,
   "metadata": {
    "execution": {
     "iopub.execute_input": "2022-04-17T10:35:07.116600Z",
     "iopub.status.busy": "2022-04-17T10:35:07.115957Z",
     "iopub.status.idle": "2022-04-17T10:35:07.637409Z",
     "shell.execute_reply": "2022-04-17T10:35:07.636667Z",
     "shell.execute_reply.started": "2022-04-17T10:35:07.116563Z"
    }
   },
   "outputs": [],
   "source": [
    "model.save(\"animalFacesClassifier.h5\")"
   ]
  }
 ],
 "metadata": {
  "kernelspec": {
   "display_name": "Python 3 (ipykernel)",
   "language": "python",
   "name": "python3"
  },
  "language_info": {
   "codemirror_mode": {
    "name": "ipython",
    "version": 3
   },
   "file_extension": ".py",
   "mimetype": "text/x-python",
   "name": "python",
   "nbconvert_exporter": "python",
   "pygments_lexer": "ipython3",
   "version": "3.8.10"
  }
 },
 "nbformat": 4,
 "nbformat_minor": 4
}
