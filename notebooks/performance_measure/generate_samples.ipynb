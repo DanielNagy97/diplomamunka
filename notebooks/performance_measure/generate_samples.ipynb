{
 "cells": [
  {
   "cell_type": "code",
   "execution_count": 2,
   "id": "31bbe499",
   "metadata": {
    "scrolled": true
   },
   "outputs": [
    {
     "name": "stdout",
     "output_type": "stream",
     "text": [
      "WARNING:tensorflow:No training configuration found in the save file, so the model was *not* compiled. Compile it manually.\n"
     ]
    }
   ],
   "source": [
    "#Generating samples for measuring performance\n",
    "\n",
    "import tensorflow as tf\n",
    "from tensorflow import random\n",
    "import matplotlib.pyplot as plt\n",
    "import numpy as np\n",
    "\n",
    "generator_paths = [\n",
    "    '../datas/weights/msggan/cifar10/msgGeneratorCifar10.h5',\n",
    "    '../datas/weights/msggan/afhq/msgGenerator.h5',\n",
    "    '../datas/weights/dcgan/animaldc/generator.h5',\n",
    "    '../datas/weights/dcgan/cifar10/generatordccifar10epoch100.h5',\n",
    "]\n",
    "\n",
    "output_paths = [\n",
    "    './generated_samples/msggan/cifar10/',\n",
    "    './generated_samples/msggan/afhq/',\n",
    "    './generated_samples/dcgan/afhq/',\n",
    "    './generated_samples/dcgan/cifar10/',\n",
    "]\n",
    "\n",
    "latent_dim = 100\n",
    "\n",
    "n_samples = 10000\n",
    "step_size = 1000\n",
    "\n",
    "\n",
    "for i in range(len(generator_paths)):\n",
    "    generator = tf.keras.models.load_model(generator_paths[i])\n",
    "    for sample_batch in range(step_size, n_samples + step_size, step_size):\n",
    "        noises = tf.random.normal([step_size, latent_dim])\n",
    "        if(i < 2):\n",
    "            # Only saving the highest resolution\n",
    "            example_images = generator(noises, training=False)[0]\n",
    "        else:\n",
    "            example_images = generator(noises, training=False)\n",
    "\n",
    "        normalized_samples = example_images.numpy()*127.5+127.5\n",
    "\n",
    "        np.save(f\"{output_paths[i]}samples_{sample_batch}.npy\", normalized_samples)"
   ]
  },
  {
   "cell_type": "code",
   "execution_count": 8,
   "id": "d6d266fb",
   "metadata": {
    "scrolled": true
   },
   "outputs": [
    {
     "data": {
      "text/plain": [
       "10000"
      ]
     },
     "execution_count": 8,
     "metadata": {},
     "output_type": "execute_result"
    }
   ],
   "source": [
    "#TODO: Creating the folders if it non existing\n",
    "# And some verbose notes during the running..."
   ]
  }
 ],
 "metadata": {
  "kernelspec": {
   "display_name": "Python 3 (ipykernel)",
   "language": "python",
   "name": "python3"
  },
  "language_info": {
   "codemirror_mode": {
    "name": "ipython",
    "version": 3
   },
   "file_extension": ".py",
   "mimetype": "text/x-python",
   "name": "python",
   "nbconvert_exporter": "python",
   "pygments_lexer": "ipython3",
   "version": "3.8.10"
  }
 },
 "nbformat": 4,
 "nbformat_minor": 5
}
