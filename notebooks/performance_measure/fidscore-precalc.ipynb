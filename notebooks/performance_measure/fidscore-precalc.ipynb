{
 "cells": [
  {
   "cell_type": "code",
   "execution_count": null,
   "metadata": {
    "execution": {
     "iopub.execute_input": "2022-05-03T05:38:04.537729Z",
     "iopub.status.busy": "2022-05-03T05:38:04.537473Z",
     "iopub.status.idle": "2022-05-03T05:39:40.682489Z",
     "shell.execute_reply": "2022-05-03T05:39:40.681714Z",
     "shell.execute_reply.started": "2022-05-03T05:38:04.537699Z"
    }
   },
   "outputs": [],
   "source": [
    "# Code derived from: https://github.com/bioinf-jku/TTUR\n",
    "\n",
    "import os\n",
    "import glob\n",
    "#os.environ['CUDA_VISIBLE_DEVICES'] = '2'\n",
    "import numpy as np\n",
    "import fid\n",
    "from matplotlib.pyplot import imread\n",
    "#import tensorflow as tf\n",
    "import tensorflow.compat.v1 as tf # The is score was made in tensorflow v1\n",
    "tf.disable_v2_behavior()          # These two lines solves the problem\n",
    "\n",
    "########\n",
    "# PATHS\n",
    "########\n",
    "data_path = '../input/afhq64x64/afhq64x64/' # set path to training set images\n",
    "output_path = 'fid_stats.npz' # path for where to store the statistics\n",
    "\n",
    "inception_path = None\n",
    "print(\"check for inception model..\", end=\" \", flush=True)\n",
    "inception_path = fid.check_or_download_inception(inception_path) # download inception if necessary\n",
    "print(\"ok\")\n",
    "\n",
    "# loads all images into memory (this might require a lot of RAM!)\n",
    "print(\"load images..\", end=\" \" , flush=True)\n",
    "image_list = glob.glob(os.path.join(data_path, '*.png'))\n",
    "images = np.array([imread(str(fn)).astype(np.float32) for fn in image_list])\n",
    "print(\"%d images found and loaded\" % len(images))\n",
    "\n",
    "print(\"create inception graph..\", end=\" \", flush=True)\n",
    "fid.create_inception_graph(inception_path)  # load the graph into the current TF graph\n",
    "print(\"ok\")\n",
    "\n",
    "print(\"calculte FID stats..\", end=\" \", flush=True)\n",
    "with tf.Session() as sess:\n",
    "    sess.run(tf.global_variables_initializer())\n",
    "    mu, sigma = fid.calculate_activation_statistics(images, sess, batch_size=100)\n",
    "    np.savez_compressed(output_path, mu=mu, sigma=sigma)\n",
    "print(\"finished\")"
   ]
  },
  {
   "cell_type": "code",
   "execution_count": null,
   "metadata": {},
   "outputs": [],
   "source": []
  }
 ],
 "metadata": {
  "kernelspec": {
   "display_name": "Python 3 (ipykernel)",
   "language": "python",
   "name": "python3"
  },
  "language_info": {
   "codemirror_mode": {
    "name": "ipython",
    "version": 3
   },
   "file_extension": ".py",
   "mimetype": "text/x-python",
   "name": "python",
   "nbconvert_exporter": "python",
   "pygments_lexer": "ipython3",
   "version": "3.8.10"
  }
 },
 "nbformat": 4,
 "nbformat_minor": 4
}
